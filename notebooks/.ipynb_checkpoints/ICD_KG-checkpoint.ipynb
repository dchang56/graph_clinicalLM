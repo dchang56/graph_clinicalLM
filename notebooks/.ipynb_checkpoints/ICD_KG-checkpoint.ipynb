{
 "cells": [
  {
   "cell_type": "code",
   "execution_count": 1,
   "id": "alive-sullivan",
   "metadata": {},
   "outputs": [],
   "source": [
    "import pandas as pd\n",
    "import numpy as np\n",
    "import sys\n",
    "import os"
   ]
  },
  {
   "cell_type": "code",
   "execution_count": 64,
   "id": "instructional-dictionary",
   "metadata": {},
   "outputs": [],
   "source": [
    "kg_file = '/home/dc925/project/data/graphmimic/UMLS/icd_relations.txt'\n",
    "concepts_file = '/home/dc925/project/data/graphmimic/UMLS/icd_concepts_all.txt'\n",
    "df = pd.read_csv(kg_file, sep='\\t', header=None)"
   ]
  },
  {
   "cell_type": "code",
   "execution_count": 65,
   "id": "comparable-girlfriend",
   "metadata": {},
   "outputs": [],
   "source": [
    "df.columns = ['head', 'rel', 'tail']"
   ]
  },
  {
   "cell_type": "code",
   "execution_count": 68,
   "id": "professional-absorption",
   "metadata": {},
   "outputs": [],
   "source": [
    "df = df.drop_duplicates(subset=['head', 'tail'])"
   ]
  },
  {
   "cell_type": "code",
   "execution_count": 70,
   "id": "democratic-liberty",
   "metadata": {},
   "outputs": [],
   "source": [
    "concepts = pd.read_csv(concepts_file, sep='\\t', header=None)"
   ]
  },
  {
   "cell_type": "code",
   "execution_count": 72,
   "id": "dress-damage",
   "metadata": {},
   "outputs": [],
   "source": [
    "concepts.columns = ['CUI', 'ICD9', 'DESC']"
   ]
  },
  {
   "cell_type": "code",
   "execution_count": 80,
   "id": "outer-expense",
   "metadata": {},
   "outputs": [],
   "source": [
    "concepts = concepts.drop_duplicates(subset=['CUI'])"
   ]
  },
  {
   "cell_type": "code",
   "execution_count": 82,
   "id": "surprised-congress",
   "metadata": {},
   "outputs": [
    {
     "data": {
      "text/plain": [
       "20996"
      ]
     },
     "execution_count": 82,
     "metadata": {},
     "output_type": "execute_result"
    }
   ],
   "source": [
    "len(set(df['head'].values))"
   ]
  },
  {
   "cell_type": "code",
   "execution_count": 84,
   "id": "located-assurance",
   "metadata": {},
   "outputs": [],
   "source": [
    "filtered_df = df[(df['head'].isin(concepts['CUI'])) & (df['tail'].isin(concepts['CUI']))]"
   ]
  },
  {
   "cell_type": "code",
   "execution_count": 85,
   "id": "selected-indianapolis",
   "metadata": {},
   "outputs": [],
   "source": [
    "cui2icd = pd.Series(concepts.ICD9.values, index=concepts.CUI).to_dict()"
   ]
  },
  {
   "cell_type": "code",
   "execution_count": 87,
   "id": "young-norway",
   "metadata": {},
   "outputs": [
    {
     "name": "stderr",
     "output_type": "stream",
     "text": [
      "/home/dc925/miniconda3/envs/graphmimic/lib/python3.7/site-packages/ipykernel_launcher.py:1: SettingWithCopyWarning: \n",
      "A value is trying to be set on a copy of a slice from a DataFrame.\n",
      "Try using .loc[row_indexer,col_indexer] = value instead\n",
      "\n",
      "See the caveats in the documentation: https://pandas.pydata.org/pandas-docs/stable/user_guide/indexing.html#returning-a-view-versus-a-copy\n",
      "  \"\"\"Entry point for launching an IPython kernel.\n"
     ]
    }
   ],
   "source": [
    "filtered_df['head'] = filtered_df['head'].map(lambda x: cui2icd[x])"
   ]
  },
  {
   "cell_type": "code",
   "execution_count": 88,
   "id": "rural-joshua",
   "metadata": {},
   "outputs": [
    {
     "name": "stderr",
     "output_type": "stream",
     "text": [
      "/home/dc925/miniconda3/envs/graphmimic/lib/python3.7/site-packages/ipykernel_launcher.py:1: SettingWithCopyWarning: \n",
      "A value is trying to be set on a copy of a slice from a DataFrame.\n",
      "Try using .loc[row_indexer,col_indexer] = value instead\n",
      "\n",
      "See the caveats in the documentation: https://pandas.pydata.org/pandas-docs/stable/user_guide/indexing.html#returning-a-view-versus-a-copy\n",
      "  \"\"\"Entry point for launching an IPython kernel.\n"
     ]
    }
   ],
   "source": [
    "filtered_df['tail'] = filtered_df['tail'].map(lambda x: cui2icd[x])"
   ]
  },
  {
   "cell_type": "code",
   "execution_count": 89,
   "id": "lined-round",
   "metadata": {},
   "outputs": [
    {
     "data": {
      "text/html": [
       "<div>\n",
       "<style scoped>\n",
       "    .dataframe tbody tr th:only-of-type {\n",
       "        vertical-align: middle;\n",
       "    }\n",
       "\n",
       "    .dataframe tbody tr th {\n",
       "        vertical-align: top;\n",
       "    }\n",
       "\n",
       "    .dataframe thead th {\n",
       "        text-align: right;\n",
       "    }\n",
       "</style>\n",
       "<table border=\"1\" class=\"dataframe\">\n",
       "  <thead>\n",
       "    <tr style=\"text-align: right;\">\n",
       "      <th></th>\n",
       "      <th>head</th>\n",
       "      <th>rel</th>\n",
       "      <th>tail</th>\n",
       "    </tr>\n",
       "  </thead>\n",
       "  <tbody>\n",
       "    <tr>\n",
       "      <th>0</th>\n",
       "      <td>789.0</td>\n",
       "      <td>SY</td>\n",
       "      <td>789.0</td>\n",
       "    </tr>\n",
       "    <tr>\n",
       "      <th>2</th>\n",
       "      <td>789.0</td>\n",
       "      <td>CHD</td>\n",
       "      <td>789.06</td>\n",
       "    </tr>\n",
       "    <tr>\n",
       "      <th>3</th>\n",
       "      <td>789.0</td>\n",
       "      <td>CHD</td>\n",
       "      <td>789.01</td>\n",
       "    </tr>\n",
       "    <tr>\n",
       "      <th>4</th>\n",
       "      <td>789.0</td>\n",
       "      <td>CHD</td>\n",
       "      <td>789.04</td>\n",
       "    </tr>\n",
       "    <tr>\n",
       "      <th>5</th>\n",
       "      <td>789.0</td>\n",
       "      <td>CHD</td>\n",
       "      <td>789.02</td>\n",
       "    </tr>\n",
       "    <tr>\n",
       "      <th>...</th>\n",
       "      <td>...</td>\n",
       "      <td>...</td>\n",
       "      <td>...</td>\n",
       "    </tr>\n",
       "    <tr>\n",
       "      <th>219829</th>\n",
       "      <td>364.53</td>\n",
       "      <td>SIB</td>\n",
       "      <td>364.55</td>\n",
       "    </tr>\n",
       "    <tr>\n",
       "      <th>219830</th>\n",
       "      <td>364.53</td>\n",
       "      <td>SIB</td>\n",
       "      <td>364.56</td>\n",
       "    </tr>\n",
       "    <tr>\n",
       "      <th>219831</th>\n",
       "      <td>364.53</td>\n",
       "      <td>SIB</td>\n",
       "      <td>364.57</td>\n",
       "    </tr>\n",
       "    <tr>\n",
       "      <th>219832</th>\n",
       "      <td>364.53</td>\n",
       "      <td>SIB</td>\n",
       "      <td>364.59</td>\n",
       "    </tr>\n",
       "    <tr>\n",
       "      <th>219833</th>\n",
       "      <td>364.53</td>\n",
       "      <td>SIB</td>\n",
       "      <td>364.51</td>\n",
       "    </tr>\n",
       "  </tbody>\n",
       "</table>\n",
       "<p>186157 rows × 3 columns</p>\n",
       "</div>"
      ],
      "text/plain": [
       "          head  rel    tail\n",
       "0        789.0   SY   789.0\n",
       "2        789.0  CHD  789.06\n",
       "3        789.0  CHD  789.01\n",
       "4        789.0  CHD  789.04\n",
       "5        789.0  CHD  789.02\n",
       "...        ...  ...     ...\n",
       "219829  364.53  SIB  364.55\n",
       "219830  364.53  SIB  364.56\n",
       "219831  364.53  SIB  364.57\n",
       "219832  364.53  SIB  364.59\n",
       "219833  364.53  SIB  364.51\n",
       "\n",
       "[186157 rows x 3 columns]"
      ]
     },
     "execution_count": 89,
     "metadata": {},
     "output_type": "execute_result"
    }
   ],
   "source": [
    "filtered_df"
   ]
  },
  {
   "cell_type": "code",
   "execution_count": 96,
   "id": "democratic-bidder",
   "metadata": {},
   "outputs": [],
   "source": [
    "triples = filtered_df.values.tolist()\n",
    "num_triples = len(triples)"
   ]
  },
  {
   "cell_type": "code",
   "execution_count": 97,
   "id": "distributed-packaging",
   "metadata": {},
   "outputs": [],
   "source": [
    "seed = np.arange(num_triples)"
   ]
  },
  {
   "cell_type": "code",
   "execution_count": 98,
   "id": "filled-video",
   "metadata": {},
   "outputs": [],
   "source": [
    "np.random.shuffle(seed)"
   ]
  },
  {
   "cell_type": "code",
   "execution_count": 100,
   "id": "regulation-buddy",
   "metadata": {},
   "outputs": [],
   "source": [
    "data_dir = '/home/dc925/project/data/graphmimic/UMLS/ICD_KG'"
   ]
  },
  {
   "cell_type": "code",
   "execution_count": 102,
   "id": "retired-passion",
   "metadata": {},
   "outputs": [],
   "source": [
    "train_count = int(num_triples * 0.9)\n",
    "valid_count = int(num_triples * 0.05)\n",
    "\n",
    "train_set = seed[:train_count].tolist()\n",
    "valid_set = seed[train_count: train_count+valid_count].tolist()\n",
    "test_set = seed[train_count+valid_count:].tolist()\n",
    "\n",
    "with open(os.path.join(data_dir, 'train.tsv'), 'w+') as f:\n",
    "    for idx in train_set:\n",
    "        f.writelines(\"{}\\t{}\\t{}\\n\".format(triples[idx][0], triples[idx][1], triples[idx][2]))\n",
    "with open(os.path.join(data_dir, 'valid.tsv'), 'w+') as f:\n",
    "    for idx in valid_set:\n",
    "        f.writelines(\"{}\\t{}\\t{}\\n\".format(triples[idx][0], triples[idx][1], triples[idx][2]))\n",
    "with open(os.path.join(data_dir, 'test.tsv'), 'w+') as f:\n",
    "    for idx in test_set:\n",
    "        f.writelines(\"{}\\t{}\\t{}\\n\".format(triples[idx][0], triples[idx][1], triples[idx][2]))\n"
   ]
  },
  {
   "cell_type": "code",
   "execution_count": null,
   "id": "blond-arbor",
   "metadata": {},
   "outputs": [],
   "source": []
  },
  {
   "cell_type": "code",
   "execution_count": null,
   "id": "south-warren",
   "metadata": {},
   "outputs": [],
   "source": []
  }
 ],
 "metadata": {
  "kernelspec": {
   "display_name": "Python 3",
   "language": "python",
   "name": "python3"
  },
  "language_info": {
   "codemirror_mode": {
    "name": "ipython",
    "version": 3
   },
   "file_extension": ".py",
   "mimetype": "text/x-python",
   "name": "python",
   "nbconvert_exporter": "python",
   "pygments_lexer": "ipython3",
   "version": "3.7.9"
  }
 },
 "nbformat": 4,
 "nbformat_minor": 5
}
