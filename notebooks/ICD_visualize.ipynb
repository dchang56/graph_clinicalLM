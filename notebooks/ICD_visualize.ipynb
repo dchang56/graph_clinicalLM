{
 "cells": [
  {
   "cell_type": "code",
   "execution_count": null,
   "id": "moving-debate",
   "metadata": {},
   "outputs": [],
   "source": [
    "\"\"\"\n",
    "use UMAP to visualize trained ICD kge.\n",
    "Color all broad codes from MIMIC by broad categories, and grey out the rest\n",
    "-get entities.tsv from data_dir to create broad labels\n",
    "\n",
    "\n",
    "we could also do a multipanel figure where we show the progression from KGE to some other representation post-training\n",
    "\"\"\""
   ]
  },
  {
   "cell_type": "code",
   "execution_count": 1,
   "id": "lucky-netscape",
   "metadata": {},
   "outputs": [
    {
     "name": "stderr",
     "output_type": "stream",
     "text": [
      "/home/dc925/miniconda3/envs/graphmimic/lib/python3.7/site-packages/umap/__init__.py:9: UserWarning: Tensorflow not installed; ParametricUMAP will be unavailable\n",
      "  warn(\"Tensorflow not installed; ParametricUMAP will be unavailable\")\n"
     ]
    }
   ],
   "source": [
    "import numpy as np\n",
    "import pandas as pd\n",
    "import os\n",
    "\n",
    "import umap\n",
    "import umap.plot\n",
    "import matplotlib.pyplot as plt\n",
    "from mpl_toolkits.mplot3d import Axes3D\n",
    "import seaborn as sns\n",
    "%matplotlib inline\n"
   ]
  },
  {
   "cell_type": "code",
   "execution_count": 27,
   "id": "blond-sweet",
   "metadata": {},
   "outputs": [],
   "source": [
    "kge = np.load('/home/dc925/project/ckpts/RotatE_ICD9_2/ICD9_RotatE_entity.npy')"
   ]
  },
  {
   "cell_type": "code",
   "execution_count": 28,
   "id": "vocal-season",
   "metadata": {},
   "outputs": [
    {
     "data": {
      "text/plain": [
       "(20979, 128)"
      ]
     },
     "execution_count": 28,
     "metadata": {},
     "output_type": "execute_result"
    }
   ],
   "source": [
    "kge.shape"
   ]
  },
  {
   "cell_type": "code",
   "execution_count": 29,
   "id": "right-planet",
   "metadata": {},
   "outputs": [],
   "source": [
    "entities = pd.read_csv('/home/dc925/project/data/graphmimic/UMLS/ICD_KG/entities.tsv', sep='\\t', header=None)\n",
    "entities.columns = ['ID', 'ICD']"
   ]
  },
  {
   "cell_type": "code",
   "execution_count": 30,
   "id": "abstract-venture",
   "metadata": {},
   "outputs": [
    {
     "data": {
      "text/html": [
       "<div>\n",
       "<style scoped>\n",
       "    .dataframe tbody tr th:only-of-type {\n",
       "        vertical-align: middle;\n",
       "    }\n",
       "\n",
       "    .dataframe tbody tr th {\n",
       "        vertical-align: top;\n",
       "    }\n",
       "\n",
       "    .dataframe thead th {\n",
       "        text-align: right;\n",
       "    }\n",
       "</style>\n",
       "<table border=\"1\" class=\"dataframe\">\n",
       "  <thead>\n",
       "    <tr style=\"text-align: right;\">\n",
       "      <th></th>\n",
       "      <th>ID</th>\n",
       "      <th>ICD</th>\n",
       "    </tr>\n",
       "  </thead>\n",
       "  <tbody>\n",
       "    <tr>\n",
       "      <th>0</th>\n",
       "      <td>0</td>\n",
       "      <td>130.4</td>\n",
       "    </tr>\n",
       "    <tr>\n",
       "      <th>1</th>\n",
       "      <td>1</td>\n",
       "      <td>E981.1</td>\n",
       "    </tr>\n",
       "    <tr>\n",
       "      <th>2</th>\n",
       "      <td>2</td>\n",
       "      <td>E981.0</td>\n",
       "    </tr>\n",
       "    <tr>\n",
       "      <th>3</th>\n",
       "      <td>3</td>\n",
       "      <td>863.1</td>\n",
       "    </tr>\n",
       "    <tr>\n",
       "      <th>4</th>\n",
       "      <td>4</td>\n",
       "      <td>863.2</td>\n",
       "    </tr>\n",
       "    <tr>\n",
       "      <th>...</th>\n",
       "      <td>...</td>\n",
       "      <td>...</td>\n",
       "    </tr>\n",
       "    <tr>\n",
       "      <th>20974</th>\n",
       "      <td>20974</td>\n",
       "      <td>383.81</td>\n",
       "    </tr>\n",
       "    <tr>\n",
       "      <th>20975</th>\n",
       "      <td>20975</td>\n",
       "      <td>543</td>\n",
       "    </tr>\n",
       "    <tr>\n",
       "      <th>20976</th>\n",
       "      <td>20976</td>\n",
       "      <td>V17.49</td>\n",
       "    </tr>\n",
       "    <tr>\n",
       "      <th>20977</th>\n",
       "      <td>20977</td>\n",
       "      <td>398</td>\n",
       "    </tr>\n",
       "    <tr>\n",
       "      <th>20978</th>\n",
       "      <td>20978</td>\n",
       "      <td>787.91</td>\n",
       "    </tr>\n",
       "  </tbody>\n",
       "</table>\n",
       "<p>20979 rows × 2 columns</p>\n",
       "</div>"
      ],
      "text/plain": [
       "          ID     ICD\n",
       "0          0   130.4\n",
       "1          1  E981.1\n",
       "2          2  E981.0\n",
       "3          3   863.1\n",
       "4          4   863.2\n",
       "...      ...     ...\n",
       "20974  20974  383.81\n",
       "20975  20975     543\n",
       "20976  20976  V17.49\n",
       "20977  20977     398\n",
       "20978  20978  787.91\n",
       "\n",
       "[20979 rows x 2 columns]"
      ]
     },
     "execution_count": 30,
     "metadata": {},
     "output_type": "execute_result"
    }
   ],
   "source": [
    "entities"
   ]
  },
  {
   "cell_type": "code",
   "execution_count": null,
   "id": "authorized-tract",
   "metadata": {},
   "outputs": [],
   "source": []
  },
  {
   "cell_type": "code",
   "execution_count": 31,
   "id": "integral-result",
   "metadata": {},
   "outputs": [],
   "source": [
    "icd2id = pd.Series(entities['ID'].values, index=entities['ICD']).to_dict()"
   ]
  },
  {
   "cell_type": "code",
   "execution_count": 32,
   "id": "engaged-satellite",
   "metadata": {},
   "outputs": [],
   "source": [
    "id2icd = {v:k for k,v in icd2id.items()}"
   ]
  },
  {
   "cell_type": "code",
   "execution_count": 33,
   "id": "beginning-smith",
   "metadata": {},
   "outputs": [],
   "source": [
    "icd_codes_mortality = pd.read_csv(\n",
    "    '/home/dc925/project/data/graphmimic/mortality/icd_codes_mortality.txt', header=None)\n",
    "icd_codes_readmission = pd.read_csv(\n",
    "    '/home/dc925/project/data/graphmimic/readmission/icd_codes_readmission.txt', header=None)\n",
    "icd_codes_mortality = icd_codes_mortality[0].tolist()\n",
    "icd_codes_readmission = icd_codes_readmission[0].tolist()\n",
    "icd_codes = set(icd_codes_mortality + icd_codes_readmission)"
   ]
  },
  {
   "cell_type": "code",
   "execution_count": 34,
   "id": "regular-lingerie",
   "metadata": {},
   "outputs": [
    {
     "data": {
      "text/plain": [
       "1067"
      ]
     },
     "execution_count": 34,
     "metadata": {},
     "output_type": "execute_result"
    }
   ],
   "source": [
    "len(icd_codes)"
   ]
  },
  {
   "cell_type": "code",
   "execution_count": 44,
   "id": "digital-issue",
   "metadata": {},
   "outputs": [],
   "source": [
    "icd_codes = sorted(icd_codes)"
   ]
  },
  {
   "cell_type": "code",
   "execution_count": 35,
   "id": "turned-restoration",
   "metadata": {},
   "outputs": [],
   "source": [
    "i = 0\n",
    "for c in icd_codes:\n",
    "    if c in icd2id:\n",
    "        continue\n",
    "    else:\n",
    "        print(c)\n",
    "        i += 1"
   ]
  },
  {
   "cell_type": "code",
   "execution_count": 36,
   "id": "wicked-polish",
   "metadata": {},
   "outputs": [
    {
     "data": {
      "text/plain": [
       "0"
      ]
     },
     "execution_count": 36,
     "metadata": {},
     "output_type": "execute_result"
    }
   ],
   "source": [
    "i"
   ]
  },
  {
   "cell_type": "code",
   "execution_count": 37,
   "id": "crude-planning",
   "metadata": {},
   "outputs": [],
   "source": [
    "def get_code_category(code):\n",
    "    if code[0] == 'E':\n",
    "        category = 'E000-E999: External Causes Of Injury And Poisoning'\n",
    "    elif code[0] == 'V':\n",
    "        category = 'V01-V91: Factors Influencing Health Status and Contact with Health Services'\n",
    "    elif code[0] == 8 or code[0] == 9:\n",
    "        category = 'Injury and Poisoning'\n",
    "    elif code[:2] in(['78', '79']):\n",
    "        category = 'Symptoms, Signs, and Ill-Defined Conditions'\n",
    "    elif code[:2] in(['76', '77']):\n",
    "        category = 'Conditions Originating In The Perinatal Period'\n",
    "    elif code[:2] in(['74', '75']):\n",
    "        category = 'Congenital Abnormalities'\n",
    "    elif code[:2] in(['71', '72', '73']):\n",
    "        category = 'Diseases of the Musculoskeletal System and Connective Tissue'\n",
    "    elif code[:2] in(['68', '69', '70']):\n",
    "        category = 'Diseases of the Skin and Subcutaneous Tissue'\n",
    "    elif code[:2] in(['63', '64', '65', '66', '67']):\n",
    "        category = 'Complications of Pregnancy, Childbirth, and the Puerperium'\n",
    "    elif code[:2] in(['58', '59', '60', '61', '62']):\n",
    "        category = 'Diseases of the Genitourinary System'\n",
    "    elif code[:2] in(['52', '53', '54', '55', '56', '57']):\n",
    "        category = 'Diseases of the Digestive System'\n",
    "    elif code[:2] in(['46', '47', '48', '49', '50', '51']):\n",
    "        category = 'Diseases of the Respiratory System'\n",
    "    elif code[:2] in(['39', '40', '41', '42', '43','44','45']):\n",
    "        category = 'Diseases of the Circulatory System'\n",
    "    elif code[:2] in(['32', '33', '34', '35', '36', '37', '38']):\n",
    "        category = 'Diseases of the Nervous System and Sense Organs'\n",
    "    elif code[:2] in(['29', '30', '31']):\n",
    "        category = 'Mental Disorders'\n",
    "    elif code[:2] in(['28']):\n",
    "        category = 'Diseases of the Blood and Blood-Forming Organs'\n",
    "    elif code[:2] in(['24', '25', '26', '27']):\n",
    "        category = 'Endocrine, Nutritional and Metabolic Diseases, and Immunity Disorders'\n",
    "    elif code[:2] in(['14', '15', '16', '17', '18', '19','20', '21', '22', '23']):\n",
    "        category = 'Neoplasms'\n",
    "    else:\n",
    "        category = 'Infectious and Parasitic Diseases'\n",
    "    return category\n",
    "        \n",
    "            \n",
    "    "
   ]
  },
  {
   "cell_type": "code",
   "execution_count": 38,
   "id": "logical-canada",
   "metadata": {},
   "outputs": [],
   "source": [
    "entities['category'] = entities['ICD'].apply(lambda x: get_code_category(x))"
   ]
  },
  {
   "cell_type": "code",
   "execution_count": 39,
   "id": "delayed-sigma",
   "metadata": {},
   "outputs": [
    {
     "data": {
      "text/plain": [
       "Infectious and Parasitic Diseases                                              6301\n",
       "Diseases of the Nervous System and Sense Organs                                1911\n",
       "Complications of Pregnancy, Childbirth, and the Puerperium                     1511\n",
       "E000-E999: External Causes Of Injury And Poisoning                             1459\n",
       "Neoplasms                                                                      1421\n",
       "V01-V91: Factors Influencing Health Status and Contact with Health Services    1295\n",
       "Diseases of the Musculoskeletal System and Connective Tissue                   1001\n",
       "Diseases of the Digestive System                                                966\n",
       "Diseases of the Circulatory System                                              879\n",
       "Symptoms, Signs, and Ill-Defined Conditions                                     620\n",
       "Mental Disorders                                                                609\n",
       "Diseases of the Genitourinary System                                            549\n",
       "Diseases of the Respiratory System                                              544\n",
       "Congenital Abnormalities                                                        481\n",
       "Endocrine, Nutritional and Metabolic Diseases, and Immunity Disorders           476\n",
       "Conditions Originating In The Perinatal Period                                  465\n",
       "Diseases of the Skin and Subcutaneous Tissue                                    339\n",
       "Diseases of the Blood and Blood-Forming Organs                                  152\n",
       "Name: category, dtype: int64"
      ]
     },
     "execution_count": 39,
     "metadata": {},
     "output_type": "execute_result"
    }
   ],
   "source": [
    "entities.category.value_counts()"
   ]
  },
  {
   "cell_type": "code",
   "execution_count": 40,
   "id": "premium-helicopter",
   "metadata": {},
   "outputs": [
    {
     "data": {
      "text/html": [
       "<div>\n",
       "<style scoped>\n",
       "    .dataframe tbody tr th:only-of-type {\n",
       "        vertical-align: middle;\n",
       "    }\n",
       "\n",
       "    .dataframe tbody tr th {\n",
       "        vertical-align: top;\n",
       "    }\n",
       "\n",
       "    .dataframe thead th {\n",
       "        text-align: right;\n",
       "    }\n",
       "</style>\n",
       "<table border=\"1\" class=\"dataframe\">\n",
       "  <thead>\n",
       "    <tr style=\"text-align: right;\">\n",
       "      <th></th>\n",
       "      <th>ID</th>\n",
       "      <th>ICD</th>\n",
       "      <th>category</th>\n",
       "    </tr>\n",
       "  </thead>\n",
       "  <tbody>\n",
       "    <tr>\n",
       "      <th>0</th>\n",
       "      <td>0</td>\n",
       "      <td>130.4</td>\n",
       "      <td>Infectious and Parasitic Diseases</td>\n",
       "    </tr>\n",
       "    <tr>\n",
       "      <th>1</th>\n",
       "      <td>1</td>\n",
       "      <td>E981.1</td>\n",
       "      <td>E000-E999: External Causes Of Injury And Poiso...</td>\n",
       "    </tr>\n",
       "    <tr>\n",
       "      <th>2</th>\n",
       "      <td>2</td>\n",
       "      <td>E981.0</td>\n",
       "      <td>E000-E999: External Causes Of Injury And Poiso...</td>\n",
       "    </tr>\n",
       "    <tr>\n",
       "      <th>3</th>\n",
       "      <td>3</td>\n",
       "      <td>863.1</td>\n",
       "      <td>Infectious and Parasitic Diseases</td>\n",
       "    </tr>\n",
       "    <tr>\n",
       "      <th>4</th>\n",
       "      <td>4</td>\n",
       "      <td>863.2</td>\n",
       "      <td>Infectious and Parasitic Diseases</td>\n",
       "    </tr>\n",
       "    <tr>\n",
       "      <th>...</th>\n",
       "      <td>...</td>\n",
       "      <td>...</td>\n",
       "      <td>...</td>\n",
       "    </tr>\n",
       "    <tr>\n",
       "      <th>20974</th>\n",
       "      <td>20974</td>\n",
       "      <td>383.81</td>\n",
       "      <td>Diseases of the Nervous System and Sense Organs</td>\n",
       "    </tr>\n",
       "    <tr>\n",
       "      <th>20975</th>\n",
       "      <td>20975</td>\n",
       "      <td>543</td>\n",
       "      <td>Diseases of the Digestive System</td>\n",
       "    </tr>\n",
       "    <tr>\n",
       "      <th>20976</th>\n",
       "      <td>20976</td>\n",
       "      <td>V17.49</td>\n",
       "      <td>V01-V91: Factors Influencing Health Status and...</td>\n",
       "    </tr>\n",
       "    <tr>\n",
       "      <th>20977</th>\n",
       "      <td>20977</td>\n",
       "      <td>398</td>\n",
       "      <td>Diseases of the Circulatory System</td>\n",
       "    </tr>\n",
       "    <tr>\n",
       "      <th>20978</th>\n",
       "      <td>20978</td>\n",
       "      <td>787.91</td>\n",
       "      <td>Symptoms, Signs, and Ill-Defined Conditions</td>\n",
       "    </tr>\n",
       "  </tbody>\n",
       "</table>\n",
       "<p>20979 rows × 3 columns</p>\n",
       "</div>"
      ],
      "text/plain": [
       "          ID     ICD                                           category\n",
       "0          0   130.4                  Infectious and Parasitic Diseases\n",
       "1          1  E981.1  E000-E999: External Causes Of Injury And Poiso...\n",
       "2          2  E981.0  E000-E999: External Causes Of Injury And Poiso...\n",
       "3          3   863.1                  Infectious and Parasitic Diseases\n",
       "4          4   863.2                  Infectious and Parasitic Diseases\n",
       "...      ...     ...                                                ...\n",
       "20974  20974  383.81    Diseases of the Nervous System and Sense Organs\n",
       "20975  20975     543                   Diseases of the Digestive System\n",
       "20976  20976  V17.49  V01-V91: Factors Influencing Health Status and...\n",
       "20977  20977     398                 Diseases of the Circulatory System\n",
       "20978  20978  787.91        Symptoms, Signs, and Ill-Defined Conditions\n",
       "\n",
       "[20979 rows x 3 columns]"
      ]
     },
     "execution_count": 40,
     "metadata": {},
     "output_type": "execute_result"
    }
   ],
   "source": [
    "entities"
   ]
  },
  {
   "cell_type": "code",
   "execution_count": null,
   "id": "marked-catering",
   "metadata": {},
   "outputs": [],
   "source": []
  },
  {
   "cell_type": "code",
   "execution_count": null,
   "id": "thorough-atmosphere",
   "metadata": {},
   "outputs": [],
   "source": []
  },
  {
   "cell_type": "code",
   "execution_count": 41,
   "id": "provincial-seeker",
   "metadata": {},
   "outputs": [],
   "source": [
    "def draw_umap(n_neighbors=5, n_components=2, min_dist=0.1, metric='euclidean'):\n",
    "    fit = umap.UMAP(n_components=n_components, n_neighbors=n_neighbors, min_dist=min_dist, metric=metric)\n",
    "    mapper = fit.fit(kge)\n",
    "    umap.plot.points(mapper, labels=entities['category'])\n",
    "    \n",
    "    "
   ]
  },
  {
   "cell_type": "code",
   "execution_count": null,
   "id": "apparent-surveillance",
   "metadata": {},
   "outputs": [],
   "source": []
  },
  {
   "cell_type": "code",
   "execution_count": null,
   "id": "remarkable-tract",
   "metadata": {},
   "outputs": [],
   "source": []
  },
  {
   "cell_type": "code",
   "execution_count": 46,
   "id": "utility-modem",
   "metadata": {},
   "outputs": [],
   "source": [
    "broad_idx = [icd2id[c] for c in icd_codes]"
   ]
  },
  {
   "cell_type": "code",
   "execution_count": 49,
   "id": "protected-thriller",
   "metadata": {},
   "outputs": [],
   "source": [
    "broad_kge = kge[broad_idx]"
   ]
  },
  {
   "cell_type": "code",
   "execution_count": 51,
   "id": "blessed-sodium",
   "metadata": {},
   "outputs": [
    {
     "data": {
      "text/plain": [
       "128"
      ]
     },
     "execution_count": 51,
     "metadata": {},
     "output_type": "execute_result"
    }
   ],
   "source": [
    "broad_kge.shape[1]"
   ]
  },
  {
   "cell_type": "code",
   "execution_count": 53,
   "id": "mobile-funeral",
   "metadata": {},
   "outputs": [
    {
     "data": {
      "text/plain": [
       "range(0, 0)"
      ]
     },
     "execution_count": 53,
     "metadata": {},
     "output_type": "execute_result"
    }
   ],
   "source": [
    "range(0)"
   ]
  },
  {
   "cell_type": "code",
   "execution_count": null,
   "id": "julian-wealth",
   "metadata": {},
   "outputs": [],
   "source": []
  }
 ],
 "metadata": {
  "kernelspec": {
   "display_name": "Python 3",
   "language": "python",
   "name": "python3"
  },
  "language_info": {
   "codemirror_mode": {
    "name": "ipython",
    "version": 3
   },
   "file_extension": ".py",
   "mimetype": "text/x-python",
   "name": "python",
   "nbconvert_exporter": "python",
   "pygments_lexer": "ipython3",
   "version": "3.7.9"
  }
 },
 "nbformat": 4,
 "nbformat_minor": 5
}
