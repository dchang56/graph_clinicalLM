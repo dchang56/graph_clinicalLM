{
 "cells": [
  {
   "cell_type": "code",
   "execution_count": 1,
   "id": "pursuant-creek",
   "metadata": {},
   "outputs": [],
   "source": [
    "import pandas as pd\n",
    "import numpy as np"
   ]
  },
  {
   "cell_type": "code",
   "execution_count": 2,
   "id": "alpha-asian",
   "metadata": {},
   "outputs": [],
   "source": [
    "df_adm = pd.read_csv('/home/dc925/project/data/graphmimic/MIMIC/ADMISSIONS.csv')"
   ]
  },
  {
   "cell_type": "code",
   "execution_count": 3,
   "id": "eligible-following",
   "metadata": {},
   "outputs": [],
   "source": [
    "df_adm.ADMITTIME = pd.to_datetime(df_adm.ADMITTIME, format = '%Y-%m-%d %H:%M:%S', errors = 'coerce')\n",
    "df_adm.DISCHTIME = pd.to_datetime(df_adm.DISCHTIME, format = '%Y-%m-%d %H:%M:%S', errors = 'coerce')\n",
    "df_adm.DEATHTIME = pd.to_datetime(df_adm.DEATHTIME, format = '%Y-%m-%d %H:%M:%S', errors = 'coerce')"
   ]
  },
  {
   "cell_type": "code",
   "execution_count": 4,
   "id": "continent-manitoba",
   "metadata": {},
   "outputs": [],
   "source": [
    "df_adm = df_adm.sort_values(['SUBJECT_ID','ADMITTIME'])\n",
    "df_adm = df_adm.reset_index(drop = True)\n",
    "df_adm['NEXT_ADMITTIME'] = df_adm.groupby('SUBJECT_ID').ADMITTIME.shift(-1)\n",
    "df_adm['NEXT_ADMISSION_TYPE'] = df_adm.groupby('SUBJECT_ID').ADMISSION_TYPE.shift(-1)"
   ]
  },
  {
   "cell_type": "code",
   "execution_count": 5,
   "id": "numerical-valley",
   "metadata": {},
   "outputs": [],
   "source": [
    "rows = df_adm.NEXT_ADMISSION_TYPE == 'ELECTIVE'\n",
    "df_adm.loc[rows,'NEXT_ADMITTIME'] = pd.NaT\n",
    "df_adm.loc[rows,'NEXT_ADMISSION_TYPE'] = np.NaN"
   ]
  },
  {
   "cell_type": "code",
   "execution_count": 6,
   "id": "sophisticated-prototype",
   "metadata": {},
   "outputs": [],
   "source": [
    "df_adm = df_adm.sort_values(['SUBJECT_ID','ADMITTIME'])\n"
   ]
  },
  {
   "cell_type": "code",
   "execution_count": 7,
   "id": "upset-leader",
   "metadata": {},
   "outputs": [],
   "source": [
    "df_adm[['NEXT_ADMITTIME','NEXT_ADMISSION_TYPE']] = df_adm.groupby(['SUBJECT_ID'])[['NEXT_ADMITTIME','NEXT_ADMISSION_TYPE']].fillna(method = 'bfill')\n",
    "df_adm['DAYS_NEXT_ADMIT']=  (df_adm.NEXT_ADMITTIME - df_adm.DISCHTIME).dt.total_seconds()/(24*60*60)\n",
    "df_adm['OUTPUT_LABEL'] = (df_adm.DAYS_NEXT_ADMIT < 30).astype('int')"
   ]
  },
  {
   "cell_type": "code",
   "execution_count": 8,
   "id": "celtic-inclusion",
   "metadata": {},
   "outputs": [
    {
     "name": "stderr",
     "output_type": "stream",
     "text": [
      "/home/dc925/miniconda3/envs/graphmimic/lib/python3.7/site-packages/IPython/core/interactiveshell.py:3147: DtypeWarning: Columns (4,5) have mixed types.Specify dtype option on import or set low_memory=False.\n",
      "  interactivity=interactivity, compiler=compiler, result=result)\n",
      "/home/dc925/miniconda3/envs/graphmimic/lib/python3.7/site-packages/ipykernel_launcher.py:12: UserWarning: Pandas doesn't allow columns to be created via a new attribute name - see https://pandas.pydata.org/pandas-docs/stable/indexing.html#attribute-access\n",
      "  if sys.path[0] == '':\n"
     ]
    }
   ],
   "source": [
    "df_adm = df_adm[df_adm['ADMISSION_TYPE']!='NEWBORN']\n",
    "df_adm = df_adm[df_adm.DEATHTIME.isnull()]\n",
    "df_adm['DURATION'] = (df_adm['DISCHTIME']-df_adm['ADMITTIME']).dt.total_seconds()/(24*60*60)\n",
    "\n",
    "df_notes = pd.read_csv('/home/dc925/project/data/graphmimic/MIMIC/NOTEEVENTS.csv')\n",
    "df_notes = df_notes.sort_values(by=['SUBJECT_ID','HADM_ID','CHARTDATE'])\n",
    "df_adm_notes = pd.merge(df_adm[['SUBJECT_ID','HADM_ID','ADMITTIME','DISCHTIME','DAYS_NEXT_ADMIT','NEXT_ADMITTIME','ADMISSION_TYPE','DEATHTIME','OUTPUT_LABEL','DURATION']],\n",
    "                        df_notes[['SUBJECT_ID','HADM_ID','CHARTDATE','TEXT','CATEGORY']], \n",
    "                        on = ['SUBJECT_ID','HADM_ID'],\n",
    "                        how = 'left')\n",
    "\n",
    "df_adm_notes.ADMITTIME_C = df_adm_notes.ADMITTIME.apply(lambda x: str(x).split(' ')[0])\n",
    "df_adm_notes['ADMITTIME_C'] = pd.to_datetime(df_adm_notes.ADMITTIME_C, format = '%Y-%m-%d', errors = 'coerce')\n",
    "df_adm_notes['CHARTDATE'] = pd.to_datetime(df_adm_notes.CHARTDATE, format = '%Y-%m-%d', errors = 'coerce')"
   ]
  },
  {
   "cell_type": "code",
   "execution_count": 47,
   "id": "forced-assumption",
   "metadata": {},
   "outputs": [],
   "source": [
    "df_discharge = df_adm_notes[df_adm_notes['CATEGORY'] == 'Discharge summary']\n",
    "# multiple discharge summary for one admission -> after examination -> replicated summary -> replace with the last one \n",
    "df_discharge = (df_discharge.groupby(['SUBJECT_ID','HADM_ID']).nth(-1)).reset_index()\n",
    "df_discharge=df_discharge[df_discharge['TEXT'].notnull()]"
   ]
  },
  {
   "cell_type": "code",
   "execution_count": 48,
   "id": "grave-hands",
   "metadata": {},
   "outputs": [
    {
     "data": {
      "text/plain": [
       "0    40973\n",
       "1     2907\n",
       "Name: OUTPUT_LABEL, dtype: int64"
      ]
     },
     "execution_count": 48,
     "metadata": {},
     "output_type": "execute_result"
    }
   ],
   "source": [
    "df_discharge.OUTPUT_LABEL.value_counts()"
   ]
  },
  {
   "cell_type": "code",
   "execution_count": 49,
   "id": "prescription-apparatus",
   "metadata": {},
   "outputs": [],
   "source": [
    "\n",
    "import re\n",
    "def preprocess1(x):\n",
    "    y=re.sub('\\\\[(.*?)\\\\]','',x) #remove de-identified brackets\n",
    "    y=re.sub('[0-9]+\\.','',y) #remove 1.2. since the segmenter segments based on this\n",
    "    y=re.sub('dr\\.','doctor',y)\n",
    "    y=re.sub('m\\.d\\.','md',y)\n",
    "    y=re.sub('admission date:','',y)\n",
    "    y=re.sub('discharge date:','',y)\n",
    "    y=re.sub('--|__|==','',y)\n",
    "    return y\n",
    "\n",
    "def preprocessing(df_less_n): \n",
    "    df_less_n['TEXT']=df_less_n['TEXT'].fillna(' ')\n",
    "    df_less_n['TEXT']=df_less_n['TEXT'].str.replace('\\n',' ')\n",
    "    df_less_n['TEXT']=df_less_n['TEXT'].str.replace('\\r',' ')\n",
    "    df_less_n['TEXT']=df_less_n['TEXT'].apply(str.strip)\n",
    "    df_less_n['TEXT']=df_less_n['TEXT'].str.lower()\n",
    "\n",
    "    df_less_n['TEXT']=df_less_n['TEXT'].apply(lambda x: preprocess1(x))\n",
    "\n",
    "    #to get chunks for readmission tasks\n",
    "    from tqdm import tqdm\n",
    "    df_len = len(df_less_n)\n",
    "    want=pd.DataFrame({'HADM_ID':[],'TEXT':[],'OUTPUT_LABEL':[]})\n",
    "    chunk_size = 500\n",
    "    for i in tqdm(range(df_len)):\n",
    "        x=df_less_n.TEXT.iloc[i].split()\n",
    "        n=int(len(x)/chunk_size)\n",
    "        if n < 1:\n",
    "            want = want.append({'TEXT': df_less_n.TEXT.iloc[i], 'OUTPUT_LABEL':df_less_n.OUTPUT_LABEL.iloc[i],'HADM_ID':df_less_n.HADM_ID.iloc[i]},ignore_index=True)\n",
    "        else:\n",
    "            for j in range(n):\n",
    "                want=want.append({'TEXT':' '.join(x[j*chunk_size:(j+1)*chunk_size]),'OUTPUT_LABEL':df_less_n.OUTPUT_LABEL.iloc[i],'HADM_ID':df_less_n.HADM_ID.iloc[i]},ignore_index=True)\n",
    "            if len(x)%chunk_size>100:\n",
    "                want=want.append({'TEXT':' '.join(x[-(len(x)%chunk_size):]),'OUTPUT_LABEL':df_less_n.OUTPUT_LABEL.iloc[i],'HADM_ID':df_less_n.HADM_ID.iloc[i]},ignore_index=True)\n",
    "    \n",
    "    return want"
   ]
  },
  {
   "cell_type": "code",
   "execution_count": 50,
   "id": "allied-chrome",
   "metadata": {},
   "outputs": [
    {
     "name": "stderr",
     "output_type": "stream",
     "text": [
      "100%|██████████| 43880/43880 [13:15<00:00, 55.17it/s] \n"
     ]
    }
   ],
   "source": [
    "df_discharge = preprocessing(df_discharge)"
   ]
  },
  {
   "cell_type": "code",
   "execution_count": 66,
   "id": "compact-eugene",
   "metadata": {},
   "outputs": [
    {
     "data": {
      "text/html": [
       "<div>\n",
       "<style scoped>\n",
       "    .dataframe tbody tr th:only-of-type {\n",
       "        vertical-align: middle;\n",
       "    }\n",
       "\n",
       "    .dataframe tbody tr th {\n",
       "        vertical-align: top;\n",
       "    }\n",
       "\n",
       "    .dataframe thead th {\n",
       "        text-align: right;\n",
       "    }\n",
       "</style>\n",
       "<table border=\"1\" class=\"dataframe\">\n",
       "  <thead>\n",
       "    <tr style=\"text-align: right;\">\n",
       "      <th></th>\n",
       "      <th>HADM_ID</th>\n",
       "      <th>TEXT</th>\n",
       "      <th>OUTPUT_LABEL</th>\n",
       "    </tr>\n",
       "  </thead>\n",
       "  <tbody>\n",
       "    <tr>\n",
       "      <th>0</th>\n",
       "      <td>145834.0</td>\n",
       "      <td>date of birth: sex: m service: medicine chief ...</td>\n",
       "      <td>0.0</td>\n",
       "    </tr>\n",
       "    <tr>\n",
       "      <th>1</th>\n",
       "      <td>145834.0</td>\n",
       "      <td>and his oxygen saturation was 100% on 2 liters...</td>\n",
       "      <td>0.0</td>\n",
       "    </tr>\n",
       "    <tr>\n",
       "      <th>2</th>\n",
       "      <td>145834.0</td>\n",
       "      <td>and a hyperdynamic right ventricle; suggesting...</td>\n",
       "      <td>0.0</td>\n",
       "    </tr>\n",
       "    <tr>\n",
       "      <th>3</th>\n",
       "      <td>145834.0</td>\n",
       "      <td>of gentamicin on hospital day three, and his f...</td>\n",
       "      <td>0.0</td>\n",
       "    </tr>\n",
       "    <tr>\n",
       "      <th>4</th>\n",
       "      <td>145834.0</td>\n",
       "      <td>p.o. q.d. (times one week), then 200 mg p.o. q...</td>\n",
       "      <td>0.0</td>\n",
       "    </tr>\n",
       "    <tr>\n",
       "      <th>...</th>\n",
       "      <td>...</td>\n",
       "      <td>...</td>\n",
       "      <td>...</td>\n",
       "    </tr>\n",
       "    <tr>\n",
       "      <th>139062</th>\n",
       "      <td>197084.0</td>\n",
       "      <td>po bid (2 times a day). calcium carbonate 200 ...</td>\n",
       "      <td>0.0</td>\n",
       "    </tr>\n",
       "    <tr>\n",
       "      <th>139063</th>\n",
       "      <td>137810.0</td>\n",
       "      <td>service: surgery allergies: zantac attending: ...</td>\n",
       "      <td>0.0</td>\n",
       "    </tr>\n",
       "    <tr>\n",
       "      <th>139064</th>\n",
       "      <td>137810.0</td>\n",
       "      <td>day. simvastatin 20 mg tablet sig: one (1) tab...</td>\n",
       "      <td>0.0</td>\n",
       "    </tr>\n",
       "    <tr>\n",
       "      <th>139065</th>\n",
       "      <td>113369.0</td>\n",
       "      <td>date of birth: sex: f service: neurosurgery al...</td>\n",
       "      <td>0.0</td>\n",
       "    </tr>\n",
       "    <tr>\n",
       "      <th>139066</th>\n",
       "      <td>113369.0</td>\n",
       "      <td>pain. methocarbamol 500 mg tablet sig: 5 table...</td>\n",
       "      <td>0.0</td>\n",
       "    </tr>\n",
       "  </tbody>\n",
       "</table>\n",
       "<p>139067 rows × 3 columns</p>\n",
       "</div>"
      ],
      "text/plain": [
       "         HADM_ID                                               TEXT  \\\n",
       "0       145834.0  date of birth: sex: m service: medicine chief ...   \n",
       "1       145834.0  and his oxygen saturation was 100% on 2 liters...   \n",
       "2       145834.0  and a hyperdynamic right ventricle; suggesting...   \n",
       "3       145834.0  of gentamicin on hospital day three, and his f...   \n",
       "4       145834.0  p.o. q.d. (times one week), then 200 mg p.o. q...   \n",
       "...          ...                                                ...   \n",
       "139062  197084.0  po bid (2 times a day). calcium carbonate 200 ...   \n",
       "139063  137810.0  service: surgery allergies: zantac attending: ...   \n",
       "139064  137810.0  day. simvastatin 20 mg tablet sig: one (1) tab...   \n",
       "139065  113369.0  date of birth: sex: f service: neurosurgery al...   \n",
       "139066  113369.0  pain. methocarbamol 500 mg tablet sig: 5 table...   \n",
       "\n",
       "        OUTPUT_LABEL  \n",
       "0                0.0  \n",
       "1                0.0  \n",
       "2                0.0  \n",
       "3                0.0  \n",
       "4                0.0  \n",
       "...              ...  \n",
       "139062           0.0  \n",
       "139063           0.0  \n",
       "139064           0.0  \n",
       "139065           0.0  \n",
       "139066           0.0  \n",
       "\n",
       "[139067 rows x 3 columns]"
      ]
     },
     "execution_count": 66,
     "metadata": {},
     "output_type": "execute_result"
    }
   ],
   "source": [
    "df_discharge"
   ]
  },
  {
   "cell_type": "code",
   "execution_count": null,
   "id": "forced-sherman",
   "metadata": {},
   "outputs": [],
   "source": [
    "# df_discharge = df_discharge.rename(columns={'ID':'HADM_ID'})\n",
    "# df_discharge = df_discharge[[\"HADM_ID\", \"TEXT\", \"OUTPUT_LABEL\"]]"
   ]
  },
  {
   "cell_type": "code",
   "execution_count": null,
   "id": "female-germany",
   "metadata": {},
   "outputs": [],
   "source": [
    "# df_discharge"
   ]
  },
  {
   "cell_type": "code",
   "execution_count": 52,
   "id": "victorian-baker",
   "metadata": {},
   "outputs": [],
   "source": [
    "# add icd codes\n",
    "dicd = pd.read_csv('/home/dc925/project/data/graphmimic/MIMIC/DIAGNOSES_ICD.csv.gz')\n",
    "\n",
    "gp = dicd.groupby('HADM_ID')\n",
    "icd_codes = gp['ICD9_CODE'].apply(list)\n",
    "icd_codes = icd_codes.reset_index()\n",
    "df_all = df_discharge.merge(\n",
    "    icd_codes,\n",
    "    on='HADM_ID', how='left'\n",
    ")\n",
    "\n",
    "# Function to convert ICD9 codes to broader version (take the first 3 characters; first 4 characters for E-codes)\n",
    "def simplify_icd(code_list):\n",
    "    new_list = []\n",
    "    for code in code_list:\n",
    "        code = str(code)\n",
    "        if code=='nan':\n",
    "            continue\n",
    "        if code[0]=='E':\n",
    "            new_code = code[:4]\n",
    "        else:\n",
    "            new_code = code[:3]\n",
    "        new_list.append(new_code)\n",
    "    return new_list\n",
    "\n",
    "df_all['BROAD_ICD9_CODE'] = df_all['ICD9_CODE'].apply(lambda x: simplify_icd(x))\n"
   ]
  },
  {
   "cell_type": "code",
   "execution_count": 73,
   "id": "reliable-thursday",
   "metadata": {},
   "outputs": [
    {
     "data": {
      "text/plain": [
       "1053"
      ]
     },
     "execution_count": 73,
     "metadata": {},
     "output_type": "execute_result"
    }
   ],
   "source": [
    "from collections import Counter\n",
    "broad_codes = df_all['BROAD_ICD9_CODE']\n",
    "bc = list(broad_codes)\n",
    "all_codes = [item for sublist in bc for item in sublist]\n",
    "c = Counter(all_codes)\n",
    "len(c)"
   ]
  },
  {
   "cell_type": "code",
   "execution_count": 54,
   "id": "white-hydrogen",
   "metadata": {},
   "outputs": [],
   "source": [
    "# Create a dictionary of broad ICD codes to descriptions\n",
    "broad_codes_list = pd.read_csv('/home/dc925/project/data/graphmimic/UMLS/broad_codes.txt', sep='|', header=None)\n",
    "broad_codes_list.columns = [\"CUI\", \"ICD_BROAD\", \"DESC\"]\n",
    "broad_dict = broad_codes_list.set_index(\"ICD_BROAD\").to_dict()['DESC']"
   ]
  },
  {
   "cell_type": "code",
   "execution_count": 55,
   "id": "manual-directive",
   "metadata": {},
   "outputs": [],
   "source": [
    "# Check that all codes that we got from MIMIC are covered in the dictionary\n",
    "all_codes_in_mimic = list(c.keys())\n",
    "for code in all_codes_in_mimic:\n",
    "    if code not in broad_dict:\n",
    "        print(code)"
   ]
  },
  {
   "cell_type": "code",
   "execution_count": 56,
   "id": "numeric-canada",
   "metadata": {},
   "outputs": [],
   "source": [
    "pd.Series(all_codes_in_mimic).to_csv('/home/dc925/project/data/graphmimic/readmission/icd_codes_readmission.txt', index=None, header=None)"
   ]
  },
  {
   "cell_type": "code",
   "execution_count": 57,
   "id": "approximate-narrow",
   "metadata": {},
   "outputs": [],
   "source": [
    "df_all['BROAD_ICD9_CODE'] = df_all['BROAD_ICD9_CODE'].apply(lambda x: ['ICD'+c for c in x])"
   ]
  },
  {
   "cell_type": "code",
   "execution_count": 58,
   "id": "logical-queen",
   "metadata": {},
   "outputs": [],
   "source": [
    "df_all = df_all[[\"HADM_ID\", \"TEXT\", \"BROAD_ICD9_CODE\", \"OUTPUT_LABEL\"]]"
   ]
  },
  {
   "cell_type": "code",
   "execution_count": 59,
   "id": "first-recording",
   "metadata": {},
   "outputs": [
    {
     "data": {
      "text/html": [
       "<div>\n",
       "<style scoped>\n",
       "    .dataframe tbody tr th:only-of-type {\n",
       "        vertical-align: middle;\n",
       "    }\n",
       "\n",
       "    .dataframe tbody tr th {\n",
       "        vertical-align: top;\n",
       "    }\n",
       "\n",
       "    .dataframe thead th {\n",
       "        text-align: right;\n",
       "    }\n",
       "</style>\n",
       "<table border=\"1\" class=\"dataframe\">\n",
       "  <thead>\n",
       "    <tr style=\"text-align: right;\">\n",
       "      <th></th>\n",
       "      <th>HADM_ID</th>\n",
       "      <th>TEXT</th>\n",
       "      <th>BROAD_ICD9_CODE</th>\n",
       "      <th>OUTPUT_LABEL</th>\n",
       "    </tr>\n",
       "  </thead>\n",
       "  <tbody>\n",
       "    <tr>\n",
       "      <th>0</th>\n",
       "      <td>145834.0</td>\n",
       "      <td>date of birth: sex: m service: medicine chief ...</td>\n",
       "      <td>[ICD038, ICD785, ICD584, ICD427, ICD410, ICD42...</td>\n",
       "      <td>0.0</td>\n",
       "    </tr>\n",
       "    <tr>\n",
       "      <th>1</th>\n",
       "      <td>145834.0</td>\n",
       "      <td>and his oxygen saturation was 100% on 2 liters...</td>\n",
       "      <td>[ICD038, ICD785, ICD584, ICD427, ICD410, ICD42...</td>\n",
       "      <td>0.0</td>\n",
       "    </tr>\n",
       "    <tr>\n",
       "      <th>2</th>\n",
       "      <td>145834.0</td>\n",
       "      <td>and a hyperdynamic right ventricle; suggesting...</td>\n",
       "      <td>[ICD038, ICD785, ICD584, ICD427, ICD410, ICD42...</td>\n",
       "      <td>0.0</td>\n",
       "    </tr>\n",
       "    <tr>\n",
       "      <th>3</th>\n",
       "      <td>145834.0</td>\n",
       "      <td>of gentamicin on hospital day three, and his f...</td>\n",
       "      <td>[ICD038, ICD785, ICD584, ICD427, ICD410, ICD42...</td>\n",
       "      <td>0.0</td>\n",
       "    </tr>\n",
       "    <tr>\n",
       "      <th>4</th>\n",
       "      <td>145834.0</td>\n",
       "      <td>p.o. q.d. (times one week), then 200 mg p.o. q...</td>\n",
       "      <td>[ICD038, ICD785, ICD584, ICD427, ICD410, ICD42...</td>\n",
       "      <td>0.0</td>\n",
       "    </tr>\n",
       "    <tr>\n",
       "      <th>...</th>\n",
       "      <td>...</td>\n",
       "      <td>...</td>\n",
       "      <td>...</td>\n",
       "      <td>...</td>\n",
       "    </tr>\n",
       "    <tr>\n",
       "      <th>139062</th>\n",
       "      <td>197084.0</td>\n",
       "      <td>po bid (2 times a day). calcium carbonate 200 ...</td>\n",
       "      <td>[ICD999, ICD568, ICD577, ICD285, ICD584, ICD57...</td>\n",
       "      <td>0.0</td>\n",
       "    </tr>\n",
       "    <tr>\n",
       "      <th>139063</th>\n",
       "      <td>137810.0</td>\n",
       "      <td>service: surgery allergies: zantac attending: ...</td>\n",
       "      <td>[ICD441, ICD428, ICD998, ICD285, ICD424, ICD25...</td>\n",
       "      <td>0.0</td>\n",
       "    </tr>\n",
       "    <tr>\n",
       "      <th>139064</th>\n",
       "      <td>137810.0</td>\n",
       "      <td>day. simvastatin 20 mg tablet sig: one (1) tab...</td>\n",
       "      <td>[ICD441, ICD428, ICD998, ICD285, ICD424, ICD25...</td>\n",
       "      <td>0.0</td>\n",
       "    </tr>\n",
       "    <tr>\n",
       "      <th>139065</th>\n",
       "      <td>113369.0</td>\n",
       "      <td>date of birth: sex: f service: neurosurgery al...</td>\n",
       "      <td>[ICD756, ICD786, ICD401, ICD250, ICD413]</td>\n",
       "      <td>0.0</td>\n",
       "    </tr>\n",
       "    <tr>\n",
       "      <th>139066</th>\n",
       "      <td>113369.0</td>\n",
       "      <td>pain. methocarbamol 500 mg tablet sig: 5 table...</td>\n",
       "      <td>[ICD756, ICD786, ICD401, ICD250, ICD413]</td>\n",
       "      <td>0.0</td>\n",
       "    </tr>\n",
       "  </tbody>\n",
       "</table>\n",
       "<p>139067 rows × 4 columns</p>\n",
       "</div>"
      ],
      "text/plain": [
       "         HADM_ID                                               TEXT  \\\n",
       "0       145834.0  date of birth: sex: m service: medicine chief ...   \n",
       "1       145834.0  and his oxygen saturation was 100% on 2 liters...   \n",
       "2       145834.0  and a hyperdynamic right ventricle; suggesting...   \n",
       "3       145834.0  of gentamicin on hospital day three, and his f...   \n",
       "4       145834.0  p.o. q.d. (times one week), then 200 mg p.o. q...   \n",
       "...          ...                                                ...   \n",
       "139062  197084.0  po bid (2 times a day). calcium carbonate 200 ...   \n",
       "139063  137810.0  service: surgery allergies: zantac attending: ...   \n",
       "139064  137810.0  day. simvastatin 20 mg tablet sig: one (1) tab...   \n",
       "139065  113369.0  date of birth: sex: f service: neurosurgery al...   \n",
       "139066  113369.0  pain. methocarbamol 500 mg tablet sig: 5 table...   \n",
       "\n",
       "                                          BROAD_ICD9_CODE  OUTPUT_LABEL  \n",
       "0       [ICD038, ICD785, ICD584, ICD427, ICD410, ICD42...           0.0  \n",
       "1       [ICD038, ICD785, ICD584, ICD427, ICD410, ICD42...           0.0  \n",
       "2       [ICD038, ICD785, ICD584, ICD427, ICD410, ICD42...           0.0  \n",
       "3       [ICD038, ICD785, ICD584, ICD427, ICD410, ICD42...           0.0  \n",
       "4       [ICD038, ICD785, ICD584, ICD427, ICD410, ICD42...           0.0  \n",
       "...                                                   ...           ...  \n",
       "139062  [ICD999, ICD568, ICD577, ICD285, ICD584, ICD57...           0.0  \n",
       "139063  [ICD441, ICD428, ICD998, ICD285, ICD424, ICD25...           0.0  \n",
       "139064  [ICD441, ICD428, ICD998, ICD285, ICD424, ICD25...           0.0  \n",
       "139065           [ICD756, ICD786, ICD401, ICD250, ICD413]           0.0  \n",
       "139066           [ICD756, ICD786, ICD401, ICD250, ICD413]           0.0  \n",
       "\n",
       "[139067 rows x 4 columns]"
      ]
     },
     "execution_count": 59,
     "metadata": {},
     "output_type": "execute_result"
    }
   ],
   "source": [
    "df_all"
   ]
  },
  {
   "cell_type": "code",
   "execution_count": 77,
   "id": "unavailable-australia",
   "metadata": {},
   "outputs": [],
   "source": [
    "df_adm;"
   ]
  },
  {
   "cell_type": "code",
   "execution_count": 60,
   "id": "greater-incentive",
   "metadata": {},
   "outputs": [],
   "source": [
    "readmit_ID = df_adm[df_adm.OUTPUT_LABEL == 1].HADM_ID\n",
    "not_readmit_ID = df_adm[df_adm.OUTPUT_LABEL == 0].HADM_ID\n",
    "#subsampling to get the balanced pos/neg numbers of patients for each dataset\n",
    "not_readmit_ID_use = not_readmit_ID.sample(n=len(readmit_ID), random_state=1)\n",
    "id_val_test_t=readmit_ID.sample(frac=0.2,random_state=1)\n",
    "id_val_test_f=not_readmit_ID_use.sample(frac=0.2,random_state=1)\n",
    "\n",
    "id_train_t = readmit_ID.drop(id_val_test_t.index)\n",
    "id_train_f = not_readmit_ID_use.drop(id_val_test_f.index)\n",
    "\n",
    "id_val_t=id_val_test_t.sample(frac=0.5,random_state=1)\n",
    "id_test_t=id_val_test_t.drop(id_val_t.index)\n",
    "\n",
    "id_val_f=id_val_test_f.sample(frac=0.5,random_state=1)\n",
    "id_test_f=id_val_test_f.drop(id_val_f.index)\n",
    "\n",
    "# test if there is overlap between train and test, should return \"array([], dtype=int64)\"\n",
    "(pd.Index(id_test_t).intersection(pd.Index(id_train_t))).values\n",
    "\n",
    "id_test = pd.concat([id_test_t, id_test_f])\n",
    "test_id_label = pd.DataFrame(data = list(zip(id_test, [1]*len(id_test_t)+[0]*len(id_test_f))), columns = ['id','label'])\n",
    "\n",
    "id_val = pd.concat([id_val_t, id_val_f])\n",
    "val_id_label = pd.DataFrame(data = list(zip(id_val, [1]*len(id_val_t)+[0]*len(id_val_f))), columns = ['id','label'])\n",
    "\n",
    "id_train = pd.concat([id_train_t, id_train_f])\n",
    "train_id_label = pd.DataFrame(data = list(zip(id_train, [1]*len(id_train_t)+[0]*len(id_train_f))), columns = ['id','label'])"
   ]
  },
  {
   "cell_type": "code",
   "execution_count": 61,
   "id": "liquid-viking",
   "metadata": {},
   "outputs": [],
   "source": [
    "discharge_train = df_all[df_all.HADM_ID.isin(train_id_label.id)]\n",
    "discharge_val = df_all[df_all.HADM_ID.isin(val_id_label.id)]\n",
    "discharge_test = df_all[df_all.HADM_ID.isin(test_id_label.id)]"
   ]
  },
  {
   "cell_type": "code",
   "execution_count": 62,
   "id": "seeing-cream",
   "metadata": {},
   "outputs": [
    {
     "data": {
      "text/plain": [
       "1.0    8426\n",
       "0.0    8411\n",
       "Name: OUTPUT_LABEL, dtype: int64"
      ]
     },
     "execution_count": 62,
     "metadata": {},
     "output_type": "execute_result"
    }
   ],
   "source": [
    "# subsampling for training....since we obtain training on patient admission level so now we have same number of pos/neg readmission\n",
    "# but each admission is associated with different length of notes and we train on each chunks of notes, not on the admission, we need\n",
    "# to balance the pos/neg chunks on training set. (val and test set are fine) Usually, positive admissions have longer notes, so we need \n",
    "# find some negative chunks of notes from not_readmit_ID that we haven't used yet\n",
    "\n",
    "df = pd.concat([not_readmit_ID_use, not_readmit_ID])\n",
    "df = df.drop_duplicates(keep=False)\n",
    "#check to see if there are overlaps\n",
    "(pd.Index(df).intersection(pd.Index(not_readmit_ID_use))).values\n",
    "\n",
    "# for this set of split with random_state=1, we find we need 400 more negative training samples\n",
    "not_readmit_ID_more = df.sample(n=400, random_state=1)\n",
    "discharge_train_snippets = pd.concat([df_all[df_all.HADM_ID.isin(not_readmit_ID_more)], discharge_train])\n",
    "\n",
    "#shuffle\n",
    "discharge_train_snippets = discharge_train_snippets.sample(frac=1, random_state=1).reset_index(drop=True)\n",
    "\n",
    "#check if balanced\n",
    "discharge_train_snippets.OUTPUT_LABEL.value_counts()\n"
   ]
  },
  {
   "cell_type": "code",
   "execution_count": 68,
   "id": "cosmetic-ecuador",
   "metadata": {},
   "outputs": [
    {
     "data": {
      "text/plain": [
       "TEXT               3.363364\n",
       "BROAD_ICD9_CODE    3.363364\n",
       "OUTPUT_LABEL       3.363364\n",
       "dtype: float64"
      ]
     },
     "execution_count": 68,
     "metadata": {},
     "output_type": "execute_result"
    }
   ],
   "source": [
    "discharge_train_snippets.groupby(['HADM_ID']).agg(len).mean()"
   ]
  },
  {
   "cell_type": "code",
   "execution_count": 69,
   "id": "featured-infrastructure",
   "metadata": {},
   "outputs": [
    {
     "data": {
      "text/plain": [
       "TEXT               3.373473\n",
       "BROAD_ICD9_CODE    3.373473\n",
       "OUTPUT_LABEL       3.373473\n",
       "dtype: float64"
      ]
     },
     "execution_count": 69,
     "metadata": {},
     "output_type": "execute_result"
    }
   ],
   "source": [
    "discharge_val.groupby(['HADM_ID']).agg(len).mean()"
   ]
  },
  {
   "cell_type": "code",
   "execution_count": 71,
   "id": "printable-wilderness",
   "metadata": {},
   "outputs": [
    {
     "data": {
      "text/plain": [
       "TEXT               3.339041\n",
       "BROAD_ICD9_CODE    3.339041\n",
       "OUTPUT_LABEL       3.339041\n",
       "dtype: float64"
      ]
     },
     "execution_count": 71,
     "metadata": {},
     "output_type": "execute_result"
    }
   ],
   "source": [
    "discharge_test.groupby(['HADM_ID']).agg(len).mean()"
   ]
  },
  {
   "cell_type": "code",
   "execution_count": 63,
   "id": "appropriate-netherlands",
   "metadata": {},
   "outputs": [
    {
     "data": {
      "text/plain": [
       "1.0    1030\n",
       "0.0     903\n",
       "Name: OUTPUT_LABEL, dtype: int64"
      ]
     },
     "execution_count": 63,
     "metadata": {},
     "output_type": "execute_result"
    }
   ],
   "source": [
    "discharge_val.OUTPUT_LABEL.value_counts()"
   ]
  },
  {
   "cell_type": "code",
   "execution_count": 64,
   "id": "conscious-deadline",
   "metadata": {},
   "outputs": [
    {
     "data": {
      "text/plain": [
       "1.0    1077\n",
       "0.0     873\n",
       "Name: OUTPUT_LABEL, dtype: int64"
      ]
     },
     "execution_count": 64,
     "metadata": {},
     "output_type": "execute_result"
    }
   ],
   "source": [
    "discharge_test.OUTPUT_LABEL.value_counts()"
   ]
  },
  {
   "cell_type": "code",
   "execution_count": 65,
   "id": "extra-latter",
   "metadata": {},
   "outputs": [],
   "source": [
    "discharge_train_snippets.to_csv('/home/dc925/project/data/graphmimic/readmission/train.csv', index=False, sep='\\t')\n",
    "discharge_val.to_csv('/home/dc925/project/data/graphmimic/readmission/valid.csv', index=False, sep='\\t')\n",
    "discharge_test.to_csv('/home/dc925/project/data/graphmimic/readmission/test.csv', index=False, sep='\\t')"
   ]
  },
  {
   "cell_type": "code",
   "execution_count": 136,
   "id": "monetary-casino",
   "metadata": {},
   "outputs": [
    {
     "data": {
      "text/html": [
       "<div>\n",
       "<style scoped>\n",
       "    .dataframe tbody tr th:only-of-type {\n",
       "        vertical-align: middle;\n",
       "    }\n",
       "\n",
       "    .dataframe tbody tr th {\n",
       "        vertical-align: top;\n",
       "    }\n",
       "\n",
       "    .dataframe thead th {\n",
       "        text-align: right;\n",
       "    }\n",
       "</style>\n",
       "<table border=\"1\" class=\"dataframe\">\n",
       "  <thead>\n",
       "    <tr style=\"text-align: right;\">\n",
       "      <th></th>\n",
       "      <th>HADM_ID</th>\n",
       "      <th>TEXT</th>\n",
       "      <th>BROAD_ICD9_CODE</th>\n",
       "      <th>OUTPUT_LABEL</th>\n",
       "    </tr>\n",
       "  </thead>\n",
       "  <tbody>\n",
       "    <tr>\n",
       "      <th>0</th>\n",
       "      <td>159009.0</td>\n",
       "      <td>hypovolemic. it is reassuring that he has resp...</td>\n",
       "      <td>[ICD852, ICD200, ICD584, ICD458, ICD238, ICD18...</td>\n",
       "      <td>1.0</td>\n",
       "    </tr>\n",
       "    <tr>\n",
       "      <th>1</th>\n",
       "      <td>121758.0</td>\n",
       "      <td>insulin lispro 100 unit/ml solution sig: one (...</td>\n",
       "      <td>[ICD038, ICD785, ICD585, ICD008, ICD558, ICD55...</td>\n",
       "      <td>1.0</td>\n",
       "    </tr>\n",
       "    <tr>\n",
       "      <th>2</th>\n",
       "      <td>132572.0</td>\n",
       "      <td>service: medicine allergies: patient recorded ...</td>\n",
       "      <td>[ICD427, ICD511, ICD202, ICD427, ICD599, ICD99...</td>\n",
       "      <td>1.0</td>\n",
       "    </tr>\n",
       "    <tr>\n",
       "      <th>3</th>\n",
       "      <td>128318.0</td>\n",
       "      <td>date of birth: sex: f service: medicine allerg...</td>\n",
       "      <td>[ICD531, ICD996, ICD205, ICD078, ICD287, ICD27...</td>\n",
       "      <td>1.0</td>\n",
       "    </tr>\n",
       "    <tr>\n",
       "      <th>4</th>\n",
       "      <td>115148.0</td>\n",
       "      <td>right-sided opacity, in correlation with prior...</td>\n",
       "      <td>[ICD288, ICD204, ICD789, ICD276, ICD112, ICD78...</td>\n",
       "      <td>0.0</td>\n",
       "    </tr>\n",
       "    <tr>\n",
       "      <th>...</th>\n",
       "      <td>...</td>\n",
       "      <td>...</td>\n",
       "      <td>...</td>\n",
       "      <td>...</td>\n",
       "    </tr>\n",
       "    <tr>\n",
       "      <th>12561</th>\n",
       "      <td>148413.0</td>\n",
       "      <td>of aricept and namenda. high degree av block s...</td>\n",
       "      <td>[ICD253, ICD348, ICD790, ICDV55, ICD041, ICD27...</td>\n",
       "      <td>0.0</td>\n",
       "    </tr>\n",
       "    <tr>\n",
       "      <th>12562</th>\n",
       "      <td>125288.0</td>\n",
       "      <td>date of birth: sex: f service: medicine allerg...</td>\n",
       "      <td>[ICD403, ICD585, ICD284, ICD710, ICD789, ICD28...</td>\n",
       "      <td>1.0</td>\n",
       "    </tr>\n",
       "    <tr>\n",
       "      <th>12563</th>\n",
       "      <td>101870.0</td>\n",
       "      <td>name: , unit no: date of birth: sex: m service...</td>\n",
       "      <td>[ICD287, ICD518, ICD428, ICD486, ICD790, ICD35...</td>\n",
       "      <td>1.0</td>\n",
       "    </tr>\n",
       "    <tr>\n",
       "      <th>12564</th>\n",
       "      <td>113651.0</td>\n",
       "      <td>po q6h:prn cough heparin 5000 unit sc tid hydr...</td>\n",
       "      <td>[ICD719, ICD568, ICD785, ICD584, ICD038, ICD99...</td>\n",
       "      <td>0.0</td>\n",
       "    </tr>\n",
       "    <tr>\n",
       "      <th>12565</th>\n",
       "      <td>189515.0</td>\n",
       "      <td>date of birth: sex: m service: history of pres...</td>\n",
       "      <td>[ICD250, ICD577, ICD996, ICD584, ICD276, ICD40...</td>\n",
       "      <td>0.0</td>\n",
       "    </tr>\n",
       "  </tbody>\n",
       "</table>\n",
       "<p>12566 rows × 4 columns</p>\n",
       "</div>"
      ],
      "text/plain": [
       "        HADM_ID                                               TEXT  \\\n",
       "0      159009.0  hypovolemic. it is reassuring that he has resp...   \n",
       "1      121758.0  insulin lispro 100 unit/ml solution sig: one (...   \n",
       "2      132572.0  service: medicine allergies: patient recorded ...   \n",
       "3      128318.0  date of birth: sex: f service: medicine allerg...   \n",
       "4      115148.0  right-sided opacity, in correlation with prior...   \n",
       "...         ...                                                ...   \n",
       "12561  148413.0  of aricept and namenda. high degree av block s...   \n",
       "12562  125288.0  date of birth: sex: f service: medicine allerg...   \n",
       "12563  101870.0  name: , unit no: date of birth: sex: m service...   \n",
       "12564  113651.0  po q6h:prn cough heparin 5000 unit sc tid hydr...   \n",
       "12565  189515.0  date of birth: sex: m service: history of pres...   \n",
       "\n",
       "                                         BROAD_ICD9_CODE  OUTPUT_LABEL  \n",
       "0      [ICD852, ICD200, ICD584, ICD458, ICD238, ICD18...           1.0  \n",
       "1      [ICD038, ICD785, ICD585, ICD008, ICD558, ICD55...           1.0  \n",
       "2      [ICD427, ICD511, ICD202, ICD427, ICD599, ICD99...           1.0  \n",
       "3      [ICD531, ICD996, ICD205, ICD078, ICD287, ICD27...           1.0  \n",
       "4      [ICD288, ICD204, ICD789, ICD276, ICD112, ICD78...           0.0  \n",
       "...                                                  ...           ...  \n",
       "12561  [ICD253, ICD348, ICD790, ICDV55, ICD041, ICD27...           0.0  \n",
       "12562  [ICD403, ICD585, ICD284, ICD710, ICD789, ICD28...           1.0  \n",
       "12563  [ICD287, ICD518, ICD428, ICD486, ICD790, ICD35...           1.0  \n",
       "12564  [ICD719, ICD568, ICD785, ICD584, ICD038, ICD99...           0.0  \n",
       "12565  [ICD250, ICD577, ICD996, ICD584, ICD276, ICD40...           0.0  \n",
       "\n",
       "[12566 rows x 4 columns]"
      ]
     },
     "execution_count": 136,
     "metadata": {},
     "output_type": "execute_result"
    }
   ],
   "source": [
    "discharge_train_snippets"
   ]
  },
  {
   "cell_type": "code",
   "execution_count": null,
   "id": "binding-bundle",
   "metadata": {},
   "outputs": [],
   "source": []
  }
 ],
 "metadata": {
  "kernelspec": {
   "display_name": "Python 3",
   "language": "python",
   "name": "python3"
  },
  "language_info": {
   "codemirror_mode": {
    "name": "ipython",
    "version": 3
   },
   "file_extension": ".py",
   "mimetype": "text/x-python",
   "name": "python",
   "nbconvert_exporter": "python",
   "pygments_lexer": "ipython3",
   "version": "3.7.9"
  }
 },
 "nbformat": 4,
 "nbformat_minor": 5
}
