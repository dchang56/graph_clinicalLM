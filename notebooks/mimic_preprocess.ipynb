{
 "cells": [
  {
   "cell_type": "code",
   "execution_count": 273,
   "id": "angry-innocent",
   "metadata": {},
   "outputs": [],
   "source": [
    "import os\n",
    "import random\n",
    "import pandas as pd\n",
    "import numpy as np\n",
    "from tqdm.notebook import tqdm\n",
    "from sklearn.model_selection import train_test_split\n",
    "\n",
    "random.seed(1)"
   ]
  },
  {
   "cell_type": "code",
   "execution_count": 274,
   "id": "large-sandwich",
   "metadata": {},
   "outputs": [
    {
     "name": "stderr",
     "output_type": "stream",
     "text": [
      "/home/dc925/miniconda3/envs/graphmimic/lib/python3.7/site-packages/IPython/core/interactiveshell.py:3147: DtypeWarning: Columns (4,5) have mixed types.Specify dtype option on import or set low_memory=False.\n",
      "  interactivity=interactivity, compiler=compiler, result=result)\n"
     ]
    }
   ],
   "source": [
    "# Read in MIMIC files\n",
    "raw_adm = pd.read_csv(\"/home/dc925/project/data/graphmimic/MIMIC/ADMISSIONS.csv\")\n",
    "raw_patients = pd.read_csv('/home/dc925/project/data/graphmimic/MIMIC/PATIENTS.csv.gz')\n",
    "dicd = pd.read_csv('/home/dc925/project/data/graphmimic/MIMIC/DIAGNOSES_ICD.csv.gz')\n",
    "picd = pd.read_csv('/home/dc925/project/data/graphmimic/MIMIC/PROCEDURES_ICD.csv.gz')\n",
    "raw_notes = pd.read_csv(\"/home/dc925/project/data/graphmimic/MIMIC/NOTEEVENTS.csv\")\n",
    "\n",
    "# Only keep the admission IDs that have notes\n",
    "adm = raw_adm.copy()\n",
    "adm_in_notes = raw_notes.HADM_ID.unique()\n",
    "adm = adm[adm.HADM_ID.isin(adm_in_notes)]\n",
    "# Subset notes to nursing and physician notes\n",
    "notes = raw_notes.copy()\n",
    "categories_keep = ['Nursing', 'Physician ', 'Nursing/other']\n",
    "notes = notes[notes.CATEGORY.isin(categories_keep)]\n",
    "# Merge notes with patient data\n",
    "notes = notes.merge(\n",
    "    adm[['HADM_ID', 'DISCHTIME', 'HOSPITAL_EXPIRE_FLAG']],\n",
    "    on='HADM_ID', how='left'\n",
    ")\n",
    "# Time manipulation to only keep notes more than 24 hrs before discharge\n",
    "notes.DISCHTIME = pd.to_datetime(notes.DISCHTIME)\n",
    "notes.CHARTTIME = pd.to_datetime(notes.CHARTTIME)\n",
    "notes.CHARTDATE = pd.to_datetime(notes.CHARTDATE) + pd.DateOffset(hours=23)\n",
    "notes.CHARTTIME = notes.CHARTTIME.fillna(notes.CHARTDATE)\n",
    "notes = notes[notes.CHARTTIME < notes.DISCHTIME - pd.DateOffset(hours=24)]"
   ]
  },
  {
   "cell_type": "code",
   "execution_count": 275,
   "id": "tough-moldova",
   "metadata": {},
   "outputs": [
    {
     "data": {
      "text/plain": [
       "0.0    135498\n",
       "1.0    124702\n",
       "Name: HOSPITAL_EXPIRE_FLAG, dtype: int64"
      ]
     },
     "execution_count": 275,
     "metadata": {},
     "output_type": "execute_result"
    }
   ],
   "source": [
    "# Subset relevant columns and create balanced dataset\n",
    "keep_cols = ['HADM_ID', 'SUBJECT_ID', 'TEXT', 'HOSPITAL_EXPIRE_FLAG']\n",
    "pos_notes = notes.loc[notes.HOSPITAL_EXPIRE_FLAG == 1, keep_cols]\n",
    "neg_notes = (\n",
    "    notes\n",
    "    .loc[:, keep_cols]\n",
    "    .query(\"HOSPITAL_EXPIRE_FLAG == 0\")\n",
    "    .groupby(\"HADM_ID\")\n",
    "    .apply(lambda df: df.sample(n=4) if df.shape[0] >= 4 else df)\n",
    "    .reset_index(drop=True)\n",
    ")\n",
    "sampled_notes = pd.concat([pos_notes, neg_notes]).drop_duplicates()\n",
    "sampled_notes.HOSPITAL_EXPIRE_FLAG.value_counts()"
   ]
  },
  {
   "cell_type": "code",
   "execution_count": 276,
   "id": "amended-grain",
   "metadata": {},
   "outputs": [],
   "source": [
    "# Get ICD-9 codes per visit and merge with notes\n",
    "gp = dicd.groupby('HADM_ID')\n",
    "icd_codes = gp['ICD9_CODE'].apply(list)\n",
    "icd_codes = icd_codes.reset_index()\n",
    "sampled_notes = sampled_notes.merge(\n",
    "    icd_codes,\n",
    "    on='HADM_ID', how='left')\n",
    "# Function to convert ICD9 codes to broader version (take the first 3 characters; first 4 characters for E-codes)\n",
    "def simplify_icd(code_list):\n",
    "    new_list = []\n",
    "    for code in code_list:\n",
    "        code = str(code)\n",
    "        if code=='nan':\n",
    "            continue\n",
    "        if code[0]=='E':\n",
    "            new_code = code[:4]\n",
    "        else:\n",
    "            new_code = code[:3]\n",
    "        new_list.append(new_code)\n",
    "    return new_list\n",
    "sampled_notes['BROAD_ICD9_CODE'] = sampled_notes['ICD9_CODE'].apply(lambda x: simplify_icd(x))"
   ]
  },
  {
   "cell_type": "code",
   "execution_count": 277,
   "id": "variable-number",
   "metadata": {},
   "outputs": [
    {
     "data": {
      "text/plain": [
       "(260200, 6)"
      ]
     },
     "execution_count": 277,
     "metadata": {},
     "output_type": "execute_result"
    }
   ],
   "source": [
    "sampled_notes.shape"
   ]
  },
  {
   "cell_type": "code",
   "execution_count": 278,
   "id": "revolutionary-regulation",
   "metadata": {},
   "outputs": [
    {
     "data": {
      "text/plain": [
       "1033"
      ]
     },
     "execution_count": 278,
     "metadata": {},
     "output_type": "execute_result"
    }
   ],
   "source": [
    "# Count unique broad ICD9 codes\n",
    "from collections import Counter\n",
    "broad_codes = sampled_notes['BROAD_ICD9_CODE']\n",
    "bc = list(broad_codes)\n",
    "all_codes = [item for sublist in bc for item in sublist]\n",
    "c = Counter(all_codes)\n",
    "len(c)"
   ]
  },
  {
   "cell_type": "code",
   "execution_count": 279,
   "id": "devoted-madonna",
   "metadata": {},
   "outputs": [],
   "source": [
    "# Clean text\n",
    "def isolate(text, chars):\n",
    "    for c in chars:\n",
    "        text = text.replace(c, f\" {c} \")\n",
    "    return text\n",
    "def replace(text, chars, new=\"\"):\n",
    "    for c in chars:\n",
    "        text = text.replace(c, new)\n",
    "    return text\n",
    "def clean_text(text):\n",
    "    text = replace(text, \"[**\")\n",
    "    text = replace(text, \"**]\")\n",
    "    text = isolate(text, \"~!@#$%^&*()_+-={}:\\\";',./<>?\\\\|`'\")\n",
    "    text = text.lower()\n",
    "    return text"
   ]
  },
  {
   "cell_type": "code",
   "execution_count": 280,
   "id": "instructional-mentor",
   "metadata": {},
   "outputs": [],
   "source": [
    "sampled_notes['TEXT'] = sampled_notes.TEXT.apply(clean_text)"
   ]
  },
  {
   "cell_type": "code",
   "execution_count": 253,
   "id": "valid-alcohol",
   "metadata": {},
   "outputs": [
    {
     "data": {
      "application/vnd.jupyter.widget-view+json": {
       "model_id": "b8129a7e278448b6ab6b093c0c084b87",
       "version_major": 2,
       "version_minor": 0
      },
      "text/plain": [
       "Downloading:   0%|          | 0.00/232k [00:00<?, ?B/s]"
      ]
     },
     "metadata": {},
     "output_type": "display_data"
    },
    {
     "name": "stderr",
     "output_type": "stream",
     "text": [
      "Token indices sequence length is longer than the specified maximum sequence length for this model (791 > 512). Running this sequence through the model will result in indexing errors\n"
     ]
    },
    {
     "data": {
      "text/plain": [
       "<AxesSubplot:ylabel='Frequency'>"
      ]
     },
     "execution_count": 253,
     "metadata": {},
     "output_type": "execute_result"
    },
    {
     "data": {
      "image/png": "[encoded data removed]",
      "text/plain": [
       "<Figure size 432x288 with 1 Axes>"
      ]
     },
     "metadata": {
      "needs_background": "light"
     },
     "output_type": "display_data"
    }
   ],
   "source": [
    "# # this is for counting num tokens to see distribution of lengths\n",
    "# from transformers import AutoTokenizer, BertTokenizer\n",
    "# tokenizer = BertTokenizer.from_pretrained('bert-base-uncased')\n",
    "# sample = sampled_notes.sample(10000)\n",
    "# sample['tokens'] = sample['TEXT'].apply(lambda x: tokenizer(x)['input_ids'])\n",
    "# sample['length'] = sample['tokens'].apply(lambda x: len(x))\n",
    "# sample['length'].plot.hist(bins=50)"
   ]
  },
  {
   "cell_type": "code",
   "execution_count": 281,
   "id": "collected-truth",
   "metadata": {},
   "outputs": [],
   "source": [
    "final_sampled_notes = sampled_notes[['HADM_ID', 'SUBJECT_ID', 'TEXT', 'BROAD_ICD9_CODE', 'HOSPITAL_EXPIRE_FLAG']]"
   ]
  },
  {
   "cell_type": "code",
   "execution_count": 282,
   "id": "intellectual-courage",
   "metadata": {},
   "outputs": [],
   "source": [
    "final_sampled_notes = final_sampled_notes.rename(columns={'HOSPITAL_EXPIRE_FLAG': 'OUTPUT_LABEL'})"
   ]
  },
  {
   "cell_type": "code",
   "execution_count": 283,
   "id": "fluid-macro",
   "metadata": {},
   "outputs": [
    {
     "data": {
      "text/html": [
       "<div>\n",
       "<style scoped>\n",
       "    .dataframe tbody tr th:only-of-type {\n",
       "        vertical-align: middle;\n",
       "    }\n",
       "\n",
       "    .dataframe tbody tr th {\n",
       "        vertical-align: top;\n",
       "    }\n",
       "\n",
       "    .dataframe thead th {\n",
       "        text-align: right;\n",
       "    }\n",
       "</style>\n",
       "<table border=\"1\" class=\"dataframe\">\n",
       "  <thead>\n",
       "    <tr style=\"text-align: right;\">\n",
       "      <th></th>\n",
       "      <th>HADM_ID</th>\n",
       "      <th>SUBJECT_ID</th>\n",
       "      <th>TEXT</th>\n",
       "      <th>BROAD_ICD9_CODE</th>\n",
       "      <th>OUTPUT_LABEL</th>\n",
       "    </tr>\n",
       "  </thead>\n",
       "  <tbody>\n",
       "    <tr>\n",
       "      <th>0</th>\n",
       "      <td>146431.0</td>\n",
       "      <td>31916</td>\n",
       "      <td>respiratory failure ,  acute  ( not ards / doc...</td>\n",
       "      <td>[507, 518, 552, 197, 198, 198, 584, 511, V66, ...</td>\n",
       "      <td>1.0</td>\n",
       "    </tr>\n",
       "    <tr>\n",
       "      <th>1</th>\n",
       "      <td>116532.0</td>\n",
       "      <td>29487</td>\n",
       "      <td>chief complaint : \\n   24 hour events : \\n ekg...</td>\n",
       "      <td>[038, 518, 785, 428, 486, 276, 599, 584, 707, ...</td>\n",
       "      <td>1.0</td>\n",
       "    </tr>\n",
       "    <tr>\n",
       "      <th>2</th>\n",
       "      <td>116532.0</td>\n",
       "      <td>29487</td>\n",
       "      <td>no significant events overnight\\n   renal fail...</td>\n",
       "      <td>[038, 518, 785, 428, 486, 276, 599, 584, 707, ...</td>\n",
       "      <td>1.0</td>\n",
       "    </tr>\n",
       "    <tr>\n",
       "      <th>3</th>\n",
       "      <td>111458.0</td>\n",
       "      <td>31820</td>\n",
       "      <td>sepsis ,  severe  ( with organ dysfunction ) \\...</td>\n",
       "      <td>[197, 584, 157, 511, 599, 038, 558, 286, 518, ...</td>\n",
       "      <td>1.0</td>\n",
       "    </tr>\n",
       "    <tr>\n",
       "      <th>4</th>\n",
       "      <td>116532.0</td>\n",
       "      <td>29487</td>\n",
       "      <td>chief complaint :  urosepsis ,  erspiratory fa...</td>\n",
       "      <td>[038, 518, 785, 428, 486, 276, 599, 584, 707, ...</td>\n",
       "      <td>1.0</td>\n",
       "    </tr>\n",
       "  </tbody>\n",
       "</table>\n",
       "</div>"
      ],
      "text/plain": [
       "    HADM_ID  SUBJECT_ID                                               TEXT  \\\n",
       "0  146431.0       31916  respiratory failure ,  acute  ( not ards / doc...   \n",
       "1  116532.0       29487  chief complaint : \\n   24 hour events : \\n ekg...   \n",
       "2  116532.0       29487  no significant events overnight\\n   renal fail...   \n",
       "3  111458.0       31820  sepsis ,  severe  ( with organ dysfunction ) \\...   \n",
       "4  116532.0       29487  chief complaint :  urosepsis ,  erspiratory fa...   \n",
       "\n",
       "                                     BROAD_ICD9_CODE  OUTPUT_LABEL  \n",
       "0  [507, 518, 552, 197, 198, 198, 584, 511, V66, ...           1.0  \n",
       "1  [038, 518, 785, 428, 486, 276, 599, 584, 707, ...           1.0  \n",
       "2  [038, 518, 785, 428, 486, 276, 599, 584, 707, ...           1.0  \n",
       "3  [197, 584, 157, 511, 599, 038, 558, 286, 518, ...           1.0  \n",
       "4  [038, 518, 785, 428, 486, 276, 599, 584, 707, ...           1.0  "
      ]
     },
     "execution_count": 283,
     "metadata": {},
     "output_type": "execute_result"
    }
   ],
   "source": [
    "final_sampled_notes.head()"
   ]
  },
  {
   "cell_type": "code",
   "execution_count": 284,
   "id": "middle-violin",
   "metadata": {},
   "outputs": [],
   "source": [
    "final_sampled_notes['BROAD_ICD9_CODE'] = final_sampled_notes['BROAD_ICD9_CODE'].apply(lambda x: ['ICD'+c for c in x])"
   ]
  },
  {
   "cell_type": "code",
   "execution_count": 285,
   "id": "quarterly-hacker",
   "metadata": {},
   "outputs": [
    {
     "data": {
      "text/html": [
       "<div>\n",
       "<style scoped>\n",
       "    .dataframe tbody tr th:only-of-type {\n",
       "        vertical-align: middle;\n",
       "    }\n",
       "\n",
       "    .dataframe tbody tr th {\n",
       "        vertical-align: top;\n",
       "    }\n",
       "\n",
       "    .dataframe thead th {\n",
       "        text-align: right;\n",
       "    }\n",
       "</style>\n",
       "<table border=\"1\" class=\"dataframe\">\n",
       "  <thead>\n",
       "    <tr style=\"text-align: right;\">\n",
       "      <th></th>\n",
       "      <th>HADM_ID</th>\n",
       "      <th>SUBJECT_ID</th>\n",
       "      <th>TEXT</th>\n",
       "      <th>BROAD_ICD9_CODE</th>\n",
       "      <th>OUTPUT_LABEL</th>\n",
       "    </tr>\n",
       "  </thead>\n",
       "  <tbody>\n",
       "    <tr>\n",
       "      <th>0</th>\n",
       "      <td>146431.0</td>\n",
       "      <td>31916</td>\n",
       "      <td>respiratory failure ,  acute  ( not ards / doc...</td>\n",
       "      <td>[ICD507, ICD518, ICD552, ICD197, ICD198, ICD19...</td>\n",
       "      <td>1.0</td>\n",
       "    </tr>\n",
       "    <tr>\n",
       "      <th>1</th>\n",
       "      <td>116532.0</td>\n",
       "      <td>29487</td>\n",
       "      <td>chief complaint : \\n   24 hour events : \\n ekg...</td>\n",
       "      <td>[ICD038, ICD518, ICD785, ICD428, ICD486, ICD27...</td>\n",
       "      <td>1.0</td>\n",
       "    </tr>\n",
       "    <tr>\n",
       "      <th>2</th>\n",
       "      <td>116532.0</td>\n",
       "      <td>29487</td>\n",
       "      <td>no significant events overnight\\n   renal fail...</td>\n",
       "      <td>[ICD038, ICD518, ICD785, ICD428, ICD486, ICD27...</td>\n",
       "      <td>1.0</td>\n",
       "    </tr>\n",
       "    <tr>\n",
       "      <th>3</th>\n",
       "      <td>111458.0</td>\n",
       "      <td>31820</td>\n",
       "      <td>sepsis ,  severe  ( with organ dysfunction ) \\...</td>\n",
       "      <td>[ICD197, ICD584, ICD157, ICD511, ICD599, ICD03...</td>\n",
       "      <td>1.0</td>\n",
       "    </tr>\n",
       "    <tr>\n",
       "      <th>4</th>\n",
       "      <td>116532.0</td>\n",
       "      <td>29487</td>\n",
       "      <td>chief complaint :  urosepsis ,  erspiratory fa...</td>\n",
       "      <td>[ICD038, ICD518, ICD785, ICD428, ICD486, ICD27...</td>\n",
       "      <td>1.0</td>\n",
       "    </tr>\n",
       "  </tbody>\n",
       "</table>\n",
       "</div>"
      ],
      "text/plain": [
       "    HADM_ID  SUBJECT_ID                                               TEXT  \\\n",
       "0  146431.0       31916  respiratory failure ,  acute  ( not ards / doc...   \n",
       "1  116532.0       29487  chief complaint : \\n   24 hour events : \\n ekg...   \n",
       "2  116532.0       29487  no significant events overnight\\n   renal fail...   \n",
       "3  111458.0       31820  sepsis ,  severe  ( with organ dysfunction ) \\...   \n",
       "4  116532.0       29487  chief complaint :  urosepsis ,  erspiratory fa...   \n",
       "\n",
       "                                     BROAD_ICD9_CODE  OUTPUT_LABEL  \n",
       "0  [ICD507, ICD518, ICD552, ICD197, ICD198, ICD19...           1.0  \n",
       "1  [ICD038, ICD518, ICD785, ICD428, ICD486, ICD27...           1.0  \n",
       "2  [ICD038, ICD518, ICD785, ICD428, ICD486, ICD27...           1.0  \n",
       "3  [ICD197, ICD584, ICD157, ICD511, ICD599, ICD03...           1.0  \n",
       "4  [ICD038, ICD518, ICD785, ICD428, ICD486, ICD27...           1.0  "
      ]
     },
     "execution_count": 285,
     "metadata": {},
     "output_type": "execute_result"
    }
   ],
   "source": [
    "final_sampled_notes.head()"
   ]
  },
  {
   "cell_type": "code",
   "execution_count": 286,
   "id": "advisory-budapest",
   "metadata": {},
   "outputs": [],
   "source": [
    "# Get splits and ids\n",
    "subjects = final_sampled_notes[['SUBJECT_ID', \"OUTPUT_LABEL\"]].drop_duplicates()\n",
    "\n",
    "train_subj, rest_subj = train_test_split(\n",
    "    subjects, \n",
    "    test_size=0.25, \n",
    "    random_state=0,\n",
    "    stratify=subjects.OUTPUT_LABEL\n",
    ")\n",
    "\n",
    "valid_subj, test_subj = train_test_split(\n",
    "    rest_subj.SUBJECT_ID.values,\n",
    "    test_size=0.6,\n",
    "    random_state=1,\n",
    "    stratify=rest_subj.OUTPUT_LABEL\n",
    ")\n",
    "\n",
    "train_subj = train_subj.SUBJECT_ID.values"
   ]
  },
  {
   "cell_type": "code",
   "execution_count": 287,
   "id": "white-omaha",
   "metadata": {},
   "outputs": [],
   "source": [
    "train_notes = final_sampled_notes[final_sampled_notes.SUBJECT_ID.isin(train_subj)].reset_index(drop=True)\n",
    "valid_notes = final_sampled_notes[final_sampled_notes.SUBJECT_ID.isin(valid_subj)].reset_index(drop=True)\n",
    "test_notes = final_sampled_notes[final_sampled_notes.SUBJECT_ID.isin(test_subj)].reset_index(drop=True)"
   ]
  },
  {
   "cell_type": "code",
   "execution_count": 288,
   "id": "common-interpretation",
   "metadata": {},
   "outputs": [],
   "source": [
    "train_notes = train_notes[['HADM_ID', 'TEXT', 'BROAD_ICD9_CODE', 'OUTPUT_LABEL']]\n",
    "valid_notes = valid_notes[['HADM_ID', 'TEXT', 'BROAD_ICD9_CODE', 'OUTPUT_LABEL']]\n",
    "test_notes = test_notes[['HADM_ID', 'TEXT', 'BROAD_ICD9_CODE', 'OUTPUT_LABEL']]"
   ]
  },
  {
   "cell_type": "code",
   "execution_count": 289,
   "id": "cooked-organic",
   "metadata": {},
   "outputs": [
    {
     "data": {
      "text/html": [
       "<div>\n",
       "<style scoped>\n",
       "    .dataframe tbody tr th:only-of-type {\n",
       "        vertical-align: middle;\n",
       "    }\n",
       "\n",
       "    .dataframe tbody tr th {\n",
       "        vertical-align: top;\n",
       "    }\n",
       "\n",
       "    .dataframe thead th {\n",
       "        text-align: right;\n",
       "    }\n",
       "</style>\n",
       "<table border=\"1\" class=\"dataframe\">\n",
       "  <thead>\n",
       "    <tr style=\"text-align: right;\">\n",
       "      <th></th>\n",
       "      <th>HADM_ID</th>\n",
       "      <th>TEXT</th>\n",
       "      <th>BROAD_ICD9_CODE</th>\n",
       "      <th>OUTPUT_LABEL</th>\n",
       "    </tr>\n",
       "  </thead>\n",
       "  <tbody>\n",
       "    <tr>\n",
       "      <th>0</th>\n",
       "      <td>116532.0</td>\n",
       "      <td>chief complaint : \\n   24 hour events : \\n ekg...</td>\n",
       "      <td>[ICD038, ICD518, ICD785, ICD428, ICD486, ICD27...</td>\n",
       "      <td>1.0</td>\n",
       "    </tr>\n",
       "    <tr>\n",
       "      <th>1</th>\n",
       "      <td>116532.0</td>\n",
       "      <td>no significant events overnight\\n   renal fail...</td>\n",
       "      <td>[ICD038, ICD518, ICD785, ICD428, ICD486, ICD27...</td>\n",
       "      <td>1.0</td>\n",
       "    </tr>\n",
       "    <tr>\n",
       "      <th>2</th>\n",
       "      <td>111458.0</td>\n",
       "      <td>sepsis ,  severe  ( with organ dysfunction ) \\...</td>\n",
       "      <td>[ICD197, ICD584, ICD157, ICD511, ICD599, ICD03...</td>\n",
       "      <td>1.0</td>\n",
       "    </tr>\n",
       "    <tr>\n",
       "      <th>3</th>\n",
       "      <td>116532.0</td>\n",
       "      <td>chief complaint :  urosepsis ,  erspiratory fa...</td>\n",
       "      <td>[ICD038, ICD518, ICD785, ICD428, ICD486, ICD27...</td>\n",
       "      <td>1.0</td>\n",
       "    </tr>\n",
       "    <tr>\n",
       "      <th>4</th>\n",
       "      <td>116532.0</td>\n",
       "      <td>chief complaint : \\n   24 hour events : \\n    ...</td>\n",
       "      <td>[ICD038, ICD518, ICD785, ICD428, ICD486, ICD27...</td>\n",
       "      <td>1.0</td>\n",
       "    </tr>\n",
       "    <tr>\n",
       "      <th>...</th>\n",
       "      <td>...</td>\n",
       "      <td>...</td>\n",
       "      <td>...</td>\n",
       "      <td>...</td>\n",
       "    </tr>\n",
       "    <tr>\n",
       "      <th>204828</th>\n",
       "      <td>199995.0</td>\n",
       "      <td>neuro :  pt alert oriented following commands ...</td>\n",
       "      <td>[ICD421, ICD746, ICD429, ICD304, ICD441, ICD44...</td>\n",
       "      <td>0.0</td>\n",
       "    </tr>\n",
       "    <tr>\n",
       "      <th>204829</th>\n",
       "      <td>199995.0</td>\n",
       "      <td>neuro :  pt alert oriented but drowsy .  forge...</td>\n",
       "      <td>[ICD421, ICD746, ICD429, ICD304, ICD441, ICD44...</td>\n",
       "      <td>0.0</td>\n",
       "    </tr>\n",
       "    <tr>\n",
       "      <th>204830</th>\n",
       "      <td>199998.0</td>\n",
       "      <td>resp care\\n\\npt received from or and placed on...</td>\n",
       "      <td>[ICD414, ICD997, ICD997, ICD427, ICD788, ICD41...</td>\n",
       "      <td>0.0</td>\n",
       "    </tr>\n",
       "    <tr>\n",
       "      <th>204831</th>\n",
       "      <td>199998.0</td>\n",
       "      <td>neuro :   tmax 100 . 4 ;  mae ;  a &amp; o x3 ;  f...</td>\n",
       "      <td>[ICD414, ICD997, ICD997, ICD427, ICD788, ICD41...</td>\n",
       "      <td>0.0</td>\n",
       "    </tr>\n",
       "    <tr>\n",
       "      <th>204832</th>\n",
       "      <td>199998.0</td>\n",
       "      <td>nursing admission note :  s / p off pump cabg ...</td>\n",
       "      <td>[ICD414, ICD997, ICD997, ICD427, ICD788, ICD41...</td>\n",
       "      <td>0.0</td>\n",
       "    </tr>\n",
       "  </tbody>\n",
       "</table>\n",
       "<p>204833 rows × 4 columns</p>\n",
       "</div>"
      ],
      "text/plain": [
       "         HADM_ID                                               TEXT  \\\n",
       "0       116532.0  chief complaint : \\n   24 hour events : \\n ekg...   \n",
       "1       116532.0  no significant events overnight\\n   renal fail...   \n",
       "2       111458.0  sepsis ,  severe  ( with organ dysfunction ) \\...   \n",
       "3       116532.0  chief complaint :  urosepsis ,  erspiratory fa...   \n",
       "4       116532.0  chief complaint : \\n   24 hour events : \\n    ...   \n",
       "...          ...                                                ...   \n",
       "204828  199995.0  neuro :  pt alert oriented following commands ...   \n",
       "204829  199995.0  neuro :  pt alert oriented but drowsy .  forge...   \n",
       "204830  199998.0  resp care\\n\\npt received from or and placed on...   \n",
       "204831  199998.0  neuro :   tmax 100 . 4 ;  mae ;  a & o x3 ;  f...   \n",
       "204832  199998.0  nursing admission note :  s / p off pump cabg ...   \n",
       "\n",
       "                                          BROAD_ICD9_CODE  OUTPUT_LABEL  \n",
       "0       [ICD038, ICD518, ICD785, ICD428, ICD486, ICD27...           1.0  \n",
       "1       [ICD038, ICD518, ICD785, ICD428, ICD486, ICD27...           1.0  \n",
       "2       [ICD197, ICD584, ICD157, ICD511, ICD599, ICD03...           1.0  \n",
       "3       [ICD038, ICD518, ICD785, ICD428, ICD486, ICD27...           1.0  \n",
       "4       [ICD038, ICD518, ICD785, ICD428, ICD486, ICD27...           1.0  \n",
       "...                                                   ...           ...  \n",
       "204828  [ICD421, ICD746, ICD429, ICD304, ICD441, ICD44...           0.0  \n",
       "204829  [ICD421, ICD746, ICD429, ICD304, ICD441, ICD44...           0.0  \n",
       "204830  [ICD414, ICD997, ICD997, ICD427, ICD788, ICD41...           0.0  \n",
       "204831  [ICD414, ICD997, ICD997, ICD427, ICD788, ICD41...           0.0  \n",
       "204832  [ICD414, ICD997, ICD997, ICD427, ICD788, ICD41...           0.0  \n",
       "\n",
       "[204833 rows x 4 columns]"
      ]
     },
     "execution_count": 289,
     "metadata": {},
     "output_type": "execute_result"
    }
   ],
   "source": [
    "train_notes"
   ]
  },
  {
   "cell_type": "code",
   "execution_count": 290,
   "id": "golden-luxury",
   "metadata": {},
   "outputs": [],
   "source": [
    "train_notes.to_csv(\"/home/dc925/project/data/graphmimic/mortality/full/train.csv\", index=False, sep='\\t')\n",
    "valid_notes.to_csv(\"/home/dc925/project/data/graphmimic/mortality/full/valid.csv\", index=False, sep='\\t')\n",
    "test_notes.to_csv(\"/home/dc925/project/data/graphmimic/mortality/full/test.csv\", index=False, sep='\\t')"
   ]
  },
  {
   "cell_type": "code",
   "execution_count": 291,
   "id": "understanding-citizenship",
   "metadata": {},
   "outputs": [],
   "source": [
    "# Create subset for experiments\n",
    "train_sample = train_notes.sample(frac=0.1)\n",
    "valid_sample = valid_notes.sample(frac=0.1)\n",
    "test_sample = test_notes.sample(frac=0.1)\n",
    "train_sample.to_csv(\"/home/dc925/project/data/graphmimic/mortality/sample/train.csv\", index=False, sep='\\t')\n",
    "valid_sample.to_csv(\"/home/dc925/project/data/graphmimic/mortality/sample/valid.csv\", index=False, sep='\\t')\n",
    "test_sample.to_csv(\"/home/dc925/project/data/graphmimic/mortality/sample/test.csv\", index=False, sep='\\t')"
   ]
  },
  {
   "cell_type": "code",
   "execution_count": 292,
   "id": "latter-bracelet",
   "metadata": {},
   "outputs": [],
   "source": [
    "# Have to do chunking step after split to prevent leakage\n",
    "def chunk_examples(df):\n",
    "    from tqdm import tqdm\n",
    "    df_len = len(df)\n",
    "    out = pd.DataFrame({'HADM_ID':[],'TEXT':[], 'BROAD_ICD9_CODE': [], 'OUTPUT_LABEL':[]})\n",
    "    chunk_size = 600\n",
    "    for i in tqdm(range(df_len)):\n",
    "        x = df.TEXT.iloc[i].split()\n",
    "        n = int(len(x)/chunk_size)\n",
    "        if n < 1:\n",
    "            out = out.append({'TEXT': df.TEXT.iloc[i], 'OUTPUT_LABEL':df.OUTPUT_LABEL.iloc[i],'HADM_ID':df.HADM_ID.iloc[i], 'BROAD_ICD9_CODE': df.BROAD_ICD9_CODE.iloc[i]}, ignore_index=True)\n",
    "        else:\n",
    "            for j in range(n):\n",
    "                out = out.append({'TEXT':' '.join(x[j*chunk_size:(j+1)*chunk_size]),'OUTPUT_LABEL':df.OUTPUT_LABEL.iloc[i],'HADM_ID':df.HADM_ID.iloc[i], 'BROAD_ICD9_CODE': df.BROAD_ICD9_CODE.iloc[i]}, ignore_index=True)\n",
    "            if len(x)%chunk_size>100:\n",
    "                out = out.append({'TEXT':' '.join(x[-(len(x)%chunk_size):]),'OUTPUT_LABEL':df.OUTPUT_LABEL.iloc[i],'HADM_ID':df.HADM_ID.iloc[i], 'BROAD_ICD9_CODE': df.BROAD_ICD9_CODE.iloc[i]}, ignore_index=True)\n",
    "    out = out[['HADM_ID', 'TEXT', 'BROAD_ICD9_CODE', 'OUTPUT_LABEL']]\n",
    "    return out"
   ]
  },
  {
   "cell_type": "code",
   "execution_count": 293,
   "id": "abstract-diana",
   "metadata": {},
   "outputs": [
    {
     "name": "stderr",
     "output_type": "stream",
     "text": [
      "100%|██████████| 204833/204833 [47:53<00:00, 71.27it/s]  \n"
     ]
    }
   ],
   "source": [
    "train_chunked = chunk_examples(train_notes)"
   ]
  },
  {
   "cell_type": "code",
   "execution_count": 298,
   "id": "documented-retro",
   "metadata": {},
   "outputs": [
    {
     "name": "stderr",
     "output_type": "stream",
     "text": [
      "100%|██████████| 28007/28007 [02:16<00:00, 205.56it/s]\n",
      "100%|██████████| 43719/43719 [03:55<00:00, 185.30it/s]\n"
     ]
    }
   ],
   "source": [
    "valid_chunked = chunk_examples(valid_notes)\n",
    "test_chunked = chunk_examples(test_notes)"
   ]
  },
  {
   "cell_type": "code",
   "execution_count": 301,
   "id": "reasonable-marker",
   "metadata": {},
   "outputs": [],
   "source": [
    "train_chunked.to_csv(\"/home/dc925/project/data/graphmimic/mortality/full_chunked/train.csv\", index=False, sep='\\t')\n",
    "valid_chunked.to_csv(\"/home/dc925/project/data/graphmimic/mortality/full_chunked/valid.csv\", index=False, sep='\\t')\n",
    "test_chunked.to_csv(\"/home/dc925/project/data/graphmimic/mortality/full_chunked/test.csv\", index=False, sep='\\t')"
   ]
  },
  {
   "cell_type": "code",
   "execution_count": 307,
   "id": "careful-bookmark",
   "metadata": {},
   "outputs": [],
   "source": [
    "train_medium = train_chunked[:int(len(train_chunked)*0.2)]\n",
    "valid_medium = valid_chunked[:int(len(valid_chunked)*0.2)]\n",
    "test_medium = test_chunked[:int(len(test_chunked)*0.2)]"
   ]
  },
  {
   "cell_type": "code",
   "execution_count": 308,
   "id": "stretch-tucson",
   "metadata": {},
   "outputs": [],
   "source": [
    "train_medium.to_csv(\"/home/dc925/project/data/graphmimic/mortality/medium_chunked/train.csv\", index=False, sep='\\t')\n",
    "valid_medium.to_csv(\"/home/dc925/project/data/graphmimic/mortality/medium_chunked/valid.csv\", index=False, sep='\\t')\n",
    "test_medium.to_csv(\"/home/dc925/project/data/graphmimic/mortality/medium_chunked/test.csv\", index=False, sep='\\t')"
   ]
  },
  {
   "cell_type": "code",
   "execution_count": 299,
   "id": "humanitarian-steam",
   "metadata": {},
   "outputs": [
    {
     "name": "stderr",
     "output_type": "stream",
     "text": [
      "100%|██████████| 20483/20483 [01:39<00:00, 206.15it/s]\n"
     ]
    }
   ],
   "source": [
    "train_sample_chunked = chunk_examples(train_sample)"
   ]
  },
  {
   "cell_type": "code",
   "execution_count": 300,
   "id": "exceptional-variety",
   "metadata": {},
   "outputs": [
    {
     "name": "stderr",
     "output_type": "stream",
     "text": [
      "100%|██████████| 2801/2801 [00:11<00:00, 234.99it/s]\n",
      "100%|██████████| 4372/4372 [00:19<00:00, 226.01it/s]\n"
     ]
    }
   ],
   "source": [
    "valid_sample_chunked = chunk_examples(valid_sample)\n",
    "test_sample_chunked = chunk_examples(test_sample)"
   ]
  },
  {
   "cell_type": "code",
   "execution_count": 302,
   "id": "inner-monte",
   "metadata": {},
   "outputs": [],
   "source": [
    "train_sample_chunked.to_csv(\"/home/dc925/project/data/graphmimic/mortality/sample_chunked/train.csv\", index=False, sep='\\t')\n",
    "valid_sample_chunked.to_csv(\"/home/dc925/project/data/graphmimic/mortality/sample_chunked/valid.csv\", index=False, sep='\\t')\n",
    "test_sample_chunked.to_csv(\"/home/dc925/project/data/graphmimic/mortality/sample_chunked/test.csv\", index=False, sep='\\t')"
   ]
  },
  {
   "cell_type": "code",
   "execution_count": 261,
   "id": "stylish-puppy",
   "metadata": {},
   "outputs": [
    {
     "data": {
      "text/html": [
       "<div>\n",
       "<style scoped>\n",
       "    .dataframe tbody tr th:only-of-type {\n",
       "        vertical-align: middle;\n",
       "    }\n",
       "\n",
       "    .dataframe tbody tr th {\n",
       "        vertical-align: top;\n",
       "    }\n",
       "\n",
       "    .dataframe thead th {\n",
       "        text-align: right;\n",
       "    }\n",
       "</style>\n",
       "<table border=\"1\" class=\"dataframe\">\n",
       "  <thead>\n",
       "    <tr style=\"text-align: right;\">\n",
       "      <th></th>\n",
       "      <th>HADM_ID</th>\n",
       "      <th>TEXT</th>\n",
       "      <th>BROAD_ICD9_CODE</th>\n",
       "      <th>OUTPUT_LABEL</th>\n",
       "    </tr>\n",
       "  </thead>\n",
       "  <tbody>\n",
       "    <tr>\n",
       "      <th>49966</th>\n",
       "      <td>139058.0</td>\n",
       "      <td>resp care\\npt remains intubated  &amp;  supported ...</td>\n",
       "      <td>[ICD038, ICD785, ICD584, ICD276, ICD428, ICD42...</td>\n",
       "      <td>1.0</td>\n",
       "    </tr>\n",
       "    <tr>\n",
       "      <th>135096</th>\n",
       "      <td>131734.0</td>\n",
       "      <td>focus :  status update\\ndata : \\npt alert and ...</td>\n",
       "      <td>[ICD430, ICD434, ICD320, ICD996, ICD331, ICD27...</td>\n",
       "      <td>0.0</td>\n",
       "    </tr>\n",
       "    <tr>\n",
       "      <th>73245</th>\n",
       "      <td>110260.0</td>\n",
       "      <td>nursing progress note\\n\\nplease see carevue an...</td>\n",
       "      <td>[ICD205, ICD786, ICD518, ICD284, ICD428, ICD42...</td>\n",
       "      <td>1.0</td>\n",
       "    </tr>\n",
       "    <tr>\n",
       "      <th>143594</th>\n",
       "      <td>139811.0</td>\n",
       "      <td>npn nocs\\n\\n\\n2 .  wt 2310 ,  up 30gms .  tf a...</td>\n",
       "      <td>[ICDV31, ICD774, ICD765, ICD765, ICD770, ICDV0...</td>\n",
       "      <td>0.0</td>\n",
       "    </tr>\n",
       "    <tr>\n",
       "      <th>194991</th>\n",
       "      <td>190510.0</td>\n",
       "      <td>ccu npn\\ns :   \" when can i get up ? \\no :  se...</td>\n",
       "      <td>[ICD427, ICD424, ICD070, ICD410, ICD428, ICD42...</td>\n",
       "      <td>0.0</td>\n",
       "    </tr>\n",
       "    <tr>\n",
       "      <th>...</th>\n",
       "      <td>...</td>\n",
       "      <td>...</td>\n",
       "      <td>...</td>\n",
       "      <td>...</td>\n",
       "    </tr>\n",
       "    <tr>\n",
       "      <th>47265</th>\n",
       "      <td>135367.0</td>\n",
       "      <td>micu npn 1900 - 0700\\nplease see carevue flows...</td>\n",
       "      <td>[ICD038, ICD481, ICD785, ICD584, ICD205, ICDV4...</td>\n",
       "      <td>1.0</td>\n",
       "    </tr>\n",
       "    <tr>\n",
       "      <th>118172</th>\n",
       "      <td>115282.0</td>\n",
       "      <td>35 y / o f w /  h / o etoh abuse  ( last drink...</td>\n",
       "      <td>[ICD571, ICD486, ICD569, ICD789, ICD276, ICD27...</td>\n",
       "      <td>0.0</td>\n",
       "    </tr>\n",
       "    <tr>\n",
       "      <th>80106</th>\n",
       "      <td>126384.0</td>\n",
       "      <td>micu nursing note 7p - 7a : \\n\\nsee carevue fl...</td>\n",
       "      <td>[ICD996, ICD570, ICD427, ICD518, ICD286, ICD03...</td>\n",
       "      <td>1.0</td>\n",
       "    </tr>\n",
       "    <tr>\n",
       "      <th>55189</th>\n",
       "      <td>121041.0</td>\n",
       "      <td>respiratory care :  pt w /  a 7 . 5 oral ett i...</td>\n",
       "      <td>[ICD569, ICD569, ICD596, ICD599, ICD996, ICD45...</td>\n",
       "      <td>1.0</td>\n",
       "    </tr>\n",
       "    <tr>\n",
       "      <th>129985</th>\n",
       "      <td>126834.0</td>\n",
       "      <td>resp care\\npt has been on non invasive ventila...</td>\n",
       "      <td>[ICD518, ICD276, ICD428, ICD428, ICD491, ICD29...</td>\n",
       "      <td>0.0</td>\n",
       "    </tr>\n",
       "  </tbody>\n",
       "</table>\n",
       "<p>20479 rows × 4 columns</p>\n",
       "</div>"
      ],
      "text/plain": [
       "         HADM_ID                                               TEXT  \\\n",
       "49966   139058.0  resp care\\npt remains intubated  &  supported ...   \n",
       "135096  131734.0  focus :  status update\\ndata : \\npt alert and ...   \n",
       "73245   110260.0  nursing progress note\\n\\nplease see carevue an...   \n",
       "143594  139811.0  npn nocs\\n\\n\\n2 .  wt 2310 ,  up 30gms .  tf a...   \n",
       "194991  190510.0  ccu npn\\ns :   \" when can i get up ? \\no :  se...   \n",
       "...          ...                                                ...   \n",
       "47265   135367.0  micu npn 1900 - 0700\\nplease see carevue flows...   \n",
       "118172  115282.0  35 y / o f w /  h / o etoh abuse  ( last drink...   \n",
       "80106   126384.0  micu nursing note 7p - 7a : \\n\\nsee carevue fl...   \n",
       "55189   121041.0  respiratory care :  pt w /  a 7 . 5 oral ett i...   \n",
       "129985  126834.0  resp care\\npt has been on non invasive ventila...   \n",
       "\n",
       "                                          BROAD_ICD9_CODE  OUTPUT_LABEL  \n",
       "49966   [ICD038, ICD785, ICD584, ICD276, ICD428, ICD42...           1.0  \n",
       "135096  [ICD430, ICD434, ICD320, ICD996, ICD331, ICD27...           0.0  \n",
       "73245   [ICD205, ICD786, ICD518, ICD284, ICD428, ICD42...           1.0  \n",
       "143594  [ICDV31, ICD774, ICD765, ICD765, ICD770, ICDV0...           0.0  \n",
       "194991  [ICD427, ICD424, ICD070, ICD410, ICD428, ICD42...           0.0  \n",
       "...                                                   ...           ...  \n",
       "47265   [ICD038, ICD481, ICD785, ICD584, ICD205, ICDV4...           1.0  \n",
       "118172  [ICD571, ICD486, ICD569, ICD789, ICD276, ICD27...           0.0  \n",
       "80106   [ICD996, ICD570, ICD427, ICD518, ICD286, ICD03...           1.0  \n",
       "55189   [ICD569, ICD569, ICD596, ICD599, ICD996, ICD45...           1.0  \n",
       "129985  [ICD518, ICD276, ICD428, ICD428, ICD491, ICD29...           0.0  \n",
       "\n",
       "[20479 rows x 4 columns]"
      ]
     },
     "execution_count": 261,
     "metadata": {},
     "output_type": "execute_result"
    }
   ],
   "source": [
    "train_sample"
   ]
  },
  {
   "cell_type": "code",
   "execution_count": 303,
   "id": "unsigned-consciousness",
   "metadata": {},
   "outputs": [
    {
     "data": {
      "text/html": [
       "<div>\n",
       "<style scoped>\n",
       "    .dataframe tbody tr th:only-of-type {\n",
       "        vertical-align: middle;\n",
       "    }\n",
       "\n",
       "    .dataframe tbody tr th {\n",
       "        vertical-align: top;\n",
       "    }\n",
       "\n",
       "    .dataframe thead th {\n",
       "        text-align: right;\n",
       "    }\n",
       "</style>\n",
       "<table border=\"1\" class=\"dataframe\">\n",
       "  <thead>\n",
       "    <tr style=\"text-align: right;\">\n",
       "      <th></th>\n",
       "      <th>HADM_ID</th>\n",
       "      <th>TEXT</th>\n",
       "      <th>BROAD_ICD9_CODE</th>\n",
       "      <th>OUTPUT_LABEL</th>\n",
       "    </tr>\n",
       "  </thead>\n",
       "  <tbody>\n",
       "    <tr>\n",
       "      <th>0</th>\n",
       "      <td>108174.0</td>\n",
       "      <td>chief complaint : 24 hour events : stool cultu...</td>\n",
       "      <td>[ICD038, ICD410, ICD428, ICD584, ICD486, ICD49...</td>\n",
       "      <td>1.0</td>\n",
       "    </tr>\n",
       "    <tr>\n",
       "      <th>1</th>\n",
       "      <td>108174.0</td>\n",
       "      <td>/ ul 9 . 3 g / dl 178 mg / dl 2 . 1 mg / dl 18...</td>\n",
       "      <td>[ICD038, ICD410, ICD428, ICD584, ICD486, ICD49...</td>\n",
       "      <td>1.0</td>\n",
       "    </tr>\n",
       "    <tr>\n",
       "      <th>2</th>\n",
       "      <td>108174.0</td>\n",
       "      <td>not tolerate psv trial yesterday . not current...</td>\n",
       "      <td>[ICD038, ICD410, ICD428, ICD584, ICD486, ICD49...</td>\n",
       "      <td>1.0</td>\n",
       "    </tr>\n",
       "    <tr>\n",
       "      <th>3</th>\n",
       "      <td>131068.0</td>\n",
       "      <td>nsicu\\nneuro :  pt withdrawing to painful stim...</td>\n",
       "      <td>[ICD430, ICD428, ICD518, ICD482, ICD511, ICD51...</td>\n",
       "      <td>1.0</td>\n",
       "    </tr>\n",
       "    <tr>\n",
       "      <th>4</th>\n",
       "      <td>142980.0</td>\n",
       "      <td>60m h / o hypereosinophilic syndrome tx with e...</td>\n",
       "      <td>[ICD038, ICD518, ICD584, ICD480, ICD482, ICD42...</td>\n",
       "      <td>1.0</td>\n",
       "    </tr>\n",
       "    <tr>\n",
       "      <th>...</th>\n",
       "      <td>...</td>\n",
       "      <td>...</td>\n",
       "      <td>...</td>\n",
       "      <td>...</td>\n",
       "    </tr>\n",
       "    <tr>\n",
       "      <th>25625</th>\n",
       "      <td>147451.0</td>\n",
       "      <td>focus :  status update\\nneuro :  pt withdrawn ...</td>\n",
       "      <td>[ICD424, ICD427, ICD428, ICD578, ICD584, ICD57...</td>\n",
       "      <td>1.0</td>\n",
       "    </tr>\n",
       "    <tr>\n",
       "      <th>25626</th>\n",
       "      <td>144019.0</td>\n",
       "      <td>neuro :   a &amp; o x3 ;  mae ;  fc ;  up to chair...</td>\n",
       "      <td>[ICD996, ICD998, ICD424, ICD421, ICD997, ICD51...</td>\n",
       "      <td>0.0</td>\n",
       "    </tr>\n",
       "    <tr>\n",
       "      <th>25627</th>\n",
       "      <td>169807.0</td>\n",
       "      <td>chief complaint :  49 yo woman with history of...</td>\n",
       "      <td>[ICD570, ICD518, ICD276, ICD577, ICD571, ICD30...</td>\n",
       "      <td>1.0</td>\n",
       "    </tr>\n",
       "    <tr>\n",
       "      <th>25628</th>\n",
       "      <td>184882.0</td>\n",
       "      <td>respiratory care : \\npatient placed on psv of ...</td>\n",
       "      <td>[ICD276, ICD428, ICD599, ICD996, ICD518, ICD49...</td>\n",
       "      <td>0.0</td>\n",
       "    </tr>\n",
       "    <tr>\n",
       "      <th>25629</th>\n",
       "      <td>147143.0</td>\n",
       "      <td>61 y . o .  male with h . o .  cad s / p 5v ca...</td>\n",
       "      <td>[ICD428, ICD276, ICD425, ICD428, ICD573, ICD42...</td>\n",
       "      <td>0.0</td>\n",
       "    </tr>\n",
       "  </tbody>\n",
       "</table>\n",
       "<p>25630 rows × 4 columns</p>\n",
       "</div>"
      ],
      "text/plain": [
       "        HADM_ID                                               TEXT  \\\n",
       "0      108174.0  chief complaint : 24 hour events : stool cultu...   \n",
       "1      108174.0  / ul 9 . 3 g / dl 178 mg / dl 2 . 1 mg / dl 18...   \n",
       "2      108174.0  not tolerate psv trial yesterday . not current...   \n",
       "3      131068.0  nsicu\\nneuro :  pt withdrawing to painful stim...   \n",
       "4      142980.0  60m h / o hypereosinophilic syndrome tx with e...   \n",
       "...         ...                                                ...   \n",
       "25625  147451.0  focus :  status update\\nneuro :  pt withdrawn ...   \n",
       "25626  144019.0  neuro :   a & o x3 ;  mae ;  fc ;  up to chair...   \n",
       "25627  169807.0  chief complaint :  49 yo woman with history of...   \n",
       "25628  184882.0  respiratory care : \\npatient placed on psv of ...   \n",
       "25629  147143.0  61 y . o .  male with h . o .  cad s / p 5v ca...   \n",
       "\n",
       "                                         BROAD_ICD9_CODE  OUTPUT_LABEL  \n",
       "0      [ICD038, ICD410, ICD428, ICD584, ICD486, ICD49...           1.0  \n",
       "1      [ICD038, ICD410, ICD428, ICD584, ICD486, ICD49...           1.0  \n",
       "2      [ICD038, ICD410, ICD428, ICD584, ICD486, ICD49...           1.0  \n",
       "3      [ICD430, ICD428, ICD518, ICD482, ICD511, ICD51...           1.0  \n",
       "4      [ICD038, ICD518, ICD584, ICD480, ICD482, ICD42...           1.0  \n",
       "...                                                  ...           ...  \n",
       "25625  [ICD424, ICD427, ICD428, ICD578, ICD584, ICD57...           1.0  \n",
       "25626  [ICD996, ICD998, ICD424, ICD421, ICD997, ICD51...           0.0  \n",
       "25627  [ICD570, ICD518, ICD276, ICD577, ICD571, ICD30...           1.0  \n",
       "25628  [ICD276, ICD428, ICD599, ICD996, ICD518, ICD49...           0.0  \n",
       "25629  [ICD428, ICD276, ICD425, ICD428, ICD573, ICD42...           0.0  \n",
       "\n",
       "[25630 rows x 4 columns]"
      ]
     },
     "execution_count": 303,
     "metadata": {},
     "output_type": "execute_result"
    }
   ],
   "source": [
    "train_sample_chunked"
   ]
  },
  {
   "cell_type": "code",
   "execution_count": null,
   "id": "appreciated-snowboard",
   "metadata": {},
   "outputs": [],
   "source": []
  },
  {
   "cell_type": "code",
   "execution_count": 296,
   "id": "statistical-honey",
   "metadata": {},
   "outputs": [
    {
     "data": {
      "text/plain": [
       "TEXT               6.483288\n",
       "BROAD_ICD9_CODE    6.483288\n",
       "OUTPUT_LABEL       6.483288\n",
       "dtype: float64"
      ]
     },
     "execution_count": 296,
     "metadata": {},
     "output_type": "execute_result"
    }
   ],
   "source": [
    "train_notes.groupby(['HADM_ID']).agg(len).mean()"
   ]
  },
  {
   "cell_type": "code",
   "execution_count": 297,
   "id": "civilian-zimbabwe",
   "metadata": {},
   "outputs": [
    {
     "data": {
      "text/plain": [
       "TEXT               8.107995\n",
       "BROAD_ICD9_CODE    8.107995\n",
       "OUTPUT_LABEL       8.107995\n",
       "dtype: float64"
      ]
     },
     "execution_count": 297,
     "metadata": {},
     "output_type": "execute_result"
    }
   ],
   "source": [
    "train_chunked.groupby(['HADM_ID']).agg(len).mean()"
   ]
  },
  {
   "cell_type": "code",
   "execution_count": 271,
   "id": "nervous-norman",
   "metadata": {},
   "outputs": [
    {
     "data": {
      "text/plain": [
       "TEXT               1.880878\n",
       "BROAD_ICD9_CODE    1.880878\n",
       "OUTPUT_LABEL       1.880878\n",
       "dtype: float64"
      ]
     },
     "execution_count": 271,
     "metadata": {},
     "output_type": "execute_result"
    }
   ],
   "source": [
    "train_sample.groupby(['HADM_ID']).agg(len).mean()"
   ]
  },
  {
   "cell_type": "code",
   "execution_count": 272,
   "id": "armed-landing",
   "metadata": {},
   "outputs": [
    {
     "data": {
      "text/plain": [
       "TEXT               2.241642\n",
       "BROAD_ICD9_CODE    2.241642\n",
       "OUTPUT_LABEL       2.241642\n",
       "dtype: float64"
      ]
     },
     "execution_count": 272,
     "metadata": {},
     "output_type": "execute_result"
    }
   ],
   "source": [
    "train_sample_chunked.groupby(['HADM_ID']).agg(len).mean()"
   ]
  },
  {
   "cell_type": "code",
   "execution_count": null,
   "id": "thorough-obligation",
   "metadata": {},
   "outputs": [],
   "source": []
  },
  {
   "cell_type": "code",
   "execution_count": null,
   "id": "neutral-cabin",
   "metadata": {},
   "outputs": [],
   "source": []
  },
  {
   "cell_type": "code",
   "execution_count": null,
   "id": "lesbian-fishing",
   "metadata": {},
   "outputs": [],
   "source": []
  },
  {
   "cell_type": "code",
   "execution_count": null,
   "id": "surgical-camcorder",
   "metadata": {},
   "outputs": [],
   "source": []
  },
  {
   "cell_type": "code",
   "execution_count": null,
   "id": "german-criticism",
   "metadata": {},
   "outputs": [],
   "source": []
  },
  {
   "cell_type": "code",
   "execution_count": null,
   "id": "optical-reform",
   "metadata": {},
   "outputs": [],
   "source": []
  },
  {
   "cell_type": "code",
   "execution_count": null,
   "id": "japanese-caution",
   "metadata": {},
   "outputs": [],
   "source": []
  },
  {
   "cell_type": "code",
   "execution_count": null,
   "id": "understanding-fishing",
   "metadata": {},
   "outputs": [],
   "source": []
  },
  {
   "cell_type": "code",
   "execution_count": null,
   "id": "skilled-throat",
   "metadata": {},
   "outputs": [],
   "source": []
  },
  {
   "cell_type": "code",
   "execution_count": null,
   "id": "athletic-plenty",
   "metadata": {},
   "outputs": [],
   "source": []
  },
  {
   "cell_type": "code",
   "execution_count": null,
   "id": "random-grant",
   "metadata": {},
   "outputs": [],
   "source": []
  },
  {
   "cell_type": "code",
   "execution_count": null,
   "id": "opening-bowling",
   "metadata": {},
   "outputs": [],
   "source": []
  },
  {
   "cell_type": "code",
   "execution_count": null,
   "id": "super-jenny",
   "metadata": {},
   "outputs": [],
   "source": []
  },
  {
   "cell_type": "code",
   "execution_count": 172,
   "id": "swedish-concert",
   "metadata": {},
   "outputs": [],
   "source": [
    "# Take a look at how the most common codes for expired vs. non-expired patients differ"
   ]
  },
  {
   "cell_type": "code",
   "execution_count": 173,
   "id": "baking-kinase",
   "metadata": {},
   "outputs": [],
   "source": [
    "# Create a dictionary of broad ICD codes to descriptions\n",
    "broad_codes_list = pd.read_csv('/home/dc925/project/data/graphmimic/UMLS/broad_codes.txt', sep='|', header=None)\n",
    "broad_codes_list.columns = [\"CUI\", \"ICD_BROAD\", \"DESC\"]\n",
    "broad_dict = broad_codes_list.set_index(\"ICD_BROAD\").to_dict()['DESC']\n"
   ]
  },
  {
   "cell_type": "code",
   "execution_count": 174,
   "id": "bottom-beach",
   "metadata": {},
   "outputs": [],
   "source": [
    "# Check that all codes that we got from MIMIC are covered in the dictionary\n",
    "all_codes_in_mimic = list(c.keys())\n",
    "for code in all_codes_in_mimic:\n",
    "    if code not in broad_dict:\n",
    "        print(code)"
   ]
  },
  {
   "cell_type": "code",
   "execution_count": 175,
   "id": "sustainable-guide",
   "metadata": {},
   "outputs": [
    {
     "data": {
      "text/plain": [
       "1033"
      ]
     },
     "execution_count": 175,
     "metadata": {},
     "output_type": "execute_result"
    }
   ],
   "source": [
    "len(all_codes_in_mimic)"
   ]
  },
  {
   "cell_type": "code",
   "execution_count": 183,
   "id": "atlantic-schedule",
   "metadata": {},
   "outputs": [],
   "source": [
    "all_codes_in_mimic;"
   ]
  },
  {
   "cell_type": "code",
   "execution_count": 176,
   "id": "liable-salvation",
   "metadata": {},
   "outputs": [],
   "source": [
    "pd.Series(all_codes_in_mimic).to_csv('/home/dc925/project/data/graphmimic/icd_codes.txt', index=None, header=None)"
   ]
  },
  {
   "cell_type": "code",
   "execution_count": 75,
   "id": "weighted-consensus",
   "metadata": {},
   "outputs": [],
   "source": [
    "# Separate into positive and negative examples and create a counter for the codes in each df\n",
    "all_pos_notes = final_sampled_notes[final_sampled_notes['HOSPITAL_EXPIRE_FLAG']==1.0]\n",
    "all_neg_notes = final_sampled_notes[final_sampled_notes['HOSPITAL_EXPIRE_FLAG']==0.0]\n",
    "\n",
    "pos_codes = list(all_pos_notes['BROAD_ICD9_CODE'])\n",
    "neg_codes = list(all_neg_notes['BROAD_ICD9_CODE'])\n",
    "all_pos_codes = [item for sublist in pos_codes for item in sublist]\n",
    "all_neg_codes = [item for sublist in neg_codes for item in sublist]\n",
    "pos_c = Counter(all_pos_codes)\n",
    "neg_c = Counter(all_neg_codes)\n"
   ]
  },
  {
   "cell_type": "code",
   "execution_count": 89,
   "id": "oriented-trailer",
   "metadata": {},
   "outputs": [],
   "source": [
    "pos_top = pos_c.most_common(20)"
   ]
  },
  {
   "cell_type": "code",
   "execution_count": 90,
   "id": "generic-million",
   "metadata": {},
   "outputs": [
    {
     "name": "stdout",
     "output_type": "stream",
     "text": [
      "518 Other diseases of lung 106410\n",
      "276 Disorders of fluid, electrolyte, and acid-base balance 91201\n",
      "427 Cardiac dysrhythmias 87431\n",
      "428 Heart failure 74649\n",
      "584 Acute kidney failure 73108\n",
      "038 Septicemia 66964\n",
      "995 Certain adverse effects not elsewhere classified 53791\n",
      "785 Symptoms involving cardiovascular system 50867\n",
      "285 Other and unspecified anemias 40214\n",
      "250 Diabetes mellitus 37904\n",
      "707 Chronic ulcer of skin 36011\n",
      "401 Essential hypertension 35124\n",
      "599 Other disorders of urethra and urinary tract 28840\n",
      "482 Other bacterial pneumonia 28738\n",
      "998 Other complications of procedures, NEC 28103\n",
      "414 Other forms of chronic ischemic heart disease 27330\n",
      "V45 Other postprocedural states 26875\n",
      "486 Pneumonia, organism NOS 25853\n",
      "287 Purpura and other hemorrhagic conditions 24726\n",
      "997 Complications affecting specified body systems, not elsewhere classified 24562\n"
     ]
    }
   ],
   "source": [
    "for code in pos_top:\n",
    "    print(code[0], broad_dict[code[0]], code[1])"
   ]
  },
  {
   "cell_type": "code",
   "execution_count": 91,
   "id": "dimensional-shadow",
   "metadata": {},
   "outputs": [],
   "source": [
    "neg_top = neg_c.most_common(20)"
   ]
  },
  {
   "cell_type": "code",
   "execution_count": 92,
   "id": "brutal-chassis",
   "metadata": {},
   "outputs": [
    {
     "name": "stdout",
     "output_type": "stream",
     "text": [
      "401 Essential hypertension 46985\n",
      "428 Heart failure 44849\n",
      "427 Cardiac dysrhythmias 44558\n",
      "276 Disorders of fluid, electrolyte, and acid-base balance 39213\n",
      "414 Other forms of chronic ischemic heart disease 36798\n",
      "250 Diabetes mellitus 36073\n",
      "518 Other diseases of lung 30699\n",
      "272 Disorders of lipoid metabolism 30492\n",
      "285 Other and unspecified anemias 27836\n",
      "765 Disorders relating to short gestation and unspecified low birthweight 22623\n",
      "584 Acute kidney failure 22384\n",
      "V45 Other postprocedural states 20347\n",
      "V29 Observation and evaluation of newborns for suspected condition not found 18340\n",
      "V30 Single liveborn 17830\n",
      "599 Other disorders of urethra and urinary tract 17346\n",
      "V05 Need for prophylactic vaccination and inoculation against single diseases 16979\n",
      "530 Diseases of esophagus 16392\n",
      "998 Other complications of procedures, NEC 14804\n",
      "V58 Encounter for other and unspecified procedures and aftercare 14127\n",
      "997 Complications affecting specified body systems, not elsewhere classified 14083\n"
     ]
    }
   ],
   "source": [
    "for code in neg_top:\n",
    "    print(code[0], broad_dict[code[0]], code[1])"
   ]
  },
  {
   "cell_type": "code",
   "execution_count": null,
   "id": "photographic-rubber",
   "metadata": {},
   "outputs": [],
   "source": []
  }
 ],
 "metadata": {
  "kernelspec": {
   "display_name": "Python 3",
   "language": "python",
   "name": "python3"
  },
  "language_info": {
   "codemirror_mode": {
    "name": "ipython",
    "version": 3
   },
   "file_extension": ".py",
   "mimetype": "text/x-python",
   "name": "python",
   "nbconvert_exporter": "python",
   "pygments_lexer": "ipython3",
   "version": "3.7.9"
  }
 },
 "nbformat": 4,
 "nbformat_minor": 5
}
