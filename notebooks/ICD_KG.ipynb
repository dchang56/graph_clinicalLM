{
 "cells": [
  {
   "cell_type": "code",
   "execution_count": 84,
   "id": "advisory-conservation",
   "metadata": {},
   "outputs": [],
   "source": [
    "import pandas as pd\n",
    "import numpy as np\n",
    "import sys\n",
    "import os"
   ]
  },
  {
   "cell_type": "code",
   "execution_count": 85,
   "id": "logical-promotion",
   "metadata": {},
   "outputs": [],
   "source": [
    "kg_file = '/home/dc925/project/data/graphmimic/UMLS/icd_relations.txt'\n",
    "concepts_file = '/home/dc925/project/data/graphmimic/UMLS/icd_concepts_all.txt'\n",
    "relations = pd.read_csv(kg_file, sep='\\t', header=None)"
   ]
  },
  {
   "cell_type": "code",
   "execution_count": 86,
   "id": "valued-theory",
   "metadata": {},
   "outputs": [],
   "source": [
    "relations.columns = ['head', 'rel', 'tail']"
   ]
  },
  {
   "cell_type": "code",
   "execution_count": 87,
   "id": "declared-shadow",
   "metadata": {},
   "outputs": [],
   "source": [
    "relations = relations.drop_duplicates(subset=['head', 'tail'])"
   ]
  },
  {
   "cell_type": "code",
   "execution_count": 88,
   "id": "stone-astrology",
   "metadata": {},
   "outputs": [],
   "source": [
    "concepts = pd.read_csv(concepts_file, sep='\\t', header=None)"
   ]
  },
  {
   "cell_type": "code",
   "execution_count": 89,
   "id": "wrapped-dubai",
   "metadata": {},
   "outputs": [],
   "source": [
    "concepts.columns = ['CUI', 'ICD9', 'DESC']"
   ]
  },
  {
   "cell_type": "code",
   "execution_count": 90,
   "id": "constitutional-theme",
   "metadata": {},
   "outputs": [],
   "source": [
    "concepts = concepts.drop_duplicates(subset=['CUI'])"
   ]
  },
  {
   "cell_type": "code",
   "execution_count": 91,
   "id": "better-cleaning",
   "metadata": {},
   "outputs": [],
   "source": [
    "cuis_in_relations = set(relations['head'].values) & set(relations['tail'].values)"
   ]
  },
  {
   "cell_type": "code",
   "execution_count": 92,
   "id": "familiar-semiconductor",
   "metadata": {},
   "outputs": [
    {
     "data": {
      "text/plain": [
       "20996"
      ]
     },
     "execution_count": 92,
     "metadata": {},
     "output_type": "execute_result"
    }
   ],
   "source": [
    "len(cuis_in_relations)"
   ]
  },
  {
   "cell_type": "code",
   "execution_count": 95,
   "id": "hungarian-shoot",
   "metadata": {},
   "outputs": [],
   "source": [
    "unique_cuis = set(concepts['CUI'].values)"
   ]
  },
  {
   "cell_type": "code",
   "execution_count": 96,
   "id": "boxed-airport",
   "metadata": {},
   "outputs": [
    {
     "data": {
      "text/plain": [
       "20995"
      ]
     },
     "execution_count": 96,
     "metadata": {},
     "output_type": "execute_result"
    }
   ],
   "source": [
    "len(unique_cuis)"
   ]
  },
  {
   "cell_type": "code",
   "execution_count": 104,
   "id": "sharp-house",
   "metadata": {},
   "outputs": [
    {
     "data": {
      "text/plain": [
       "False"
      ]
     },
     "execution_count": 104,
     "metadata": {},
     "output_type": "execute_result"
    }
   ],
   "source": [
    "'C1137112' in unique_cuis"
   ]
  },
  {
   "cell_type": "code",
   "execution_count": 105,
   "id": "hungry-civilian",
   "metadata": {},
   "outputs": [],
   "source": [
    "filtered_relations = relations[(relations['head'].isin(unique_cuis)) & (relations['tail'].isin(unique_cuis))]"
   ]
  },
  {
   "cell_type": "code",
   "execution_count": 106,
   "id": "mediterranean-circle",
   "metadata": {},
   "outputs": [
    {
     "data": {
      "text/html": [
       "<div>\n",
       "<style scoped>\n",
       "    .dataframe tbody tr th:only-of-type {\n",
       "        vertical-align: middle;\n",
       "    }\n",
       "\n",
       "    .dataframe tbody tr th {\n",
       "        vertical-align: top;\n",
       "    }\n",
       "\n",
       "    .dataframe thead th {\n",
       "        text-align: right;\n",
       "    }\n",
       "</style>\n",
       "<table border=\"1\" class=\"dataframe\">\n",
       "  <thead>\n",
       "    <tr style=\"text-align: right;\">\n",
       "      <th></th>\n",
       "      <th>head</th>\n",
       "      <th>rel</th>\n",
       "      <th>tail</th>\n",
       "    </tr>\n",
       "  </thead>\n",
       "  <tbody>\n",
       "    <tr>\n",
       "      <th>0</th>\n",
       "      <td>C0000737</td>\n",
       "      <td>SY</td>\n",
       "      <td>C0000737</td>\n",
       "    </tr>\n",
       "    <tr>\n",
       "      <th>2</th>\n",
       "      <td>C0000737</td>\n",
       "      <td>CHD</td>\n",
       "      <td>C0232493</td>\n",
       "    </tr>\n",
       "    <tr>\n",
       "      <th>3</th>\n",
       "      <td>C0000737</td>\n",
       "      <td>CHD</td>\n",
       "      <td>C0235299</td>\n",
       "    </tr>\n",
       "    <tr>\n",
       "      <th>4</th>\n",
       "      <td>C0000737</td>\n",
       "      <td>CHD</td>\n",
       "      <td>C0238551</td>\n",
       "    </tr>\n",
       "    <tr>\n",
       "      <th>5</th>\n",
       "      <td>C0000737</td>\n",
       "      <td>CHD</td>\n",
       "      <td>C0238552</td>\n",
       "    </tr>\n",
       "    <tr>\n",
       "      <th>...</th>\n",
       "      <td>...</td>\n",
       "      <td>...</td>\n",
       "      <td>...</td>\n",
       "    </tr>\n",
       "    <tr>\n",
       "      <th>219829</th>\n",
       "      <td>C5235233</td>\n",
       "      <td>SIB</td>\n",
       "      <td>C0154922</td>\n",
       "    </tr>\n",
       "    <tr>\n",
       "      <th>219830</th>\n",
       "      <td>C5235233</td>\n",
       "      <td>SIB</td>\n",
       "      <td>C0154923</td>\n",
       "    </tr>\n",
       "    <tr>\n",
       "      <th>219831</th>\n",
       "      <td>C5235233</td>\n",
       "      <td>SIB</td>\n",
       "      <td>C0154924</td>\n",
       "    </tr>\n",
       "    <tr>\n",
       "      <th>219832</th>\n",
       "      <td>C5235233</td>\n",
       "      <td>SIB</td>\n",
       "      <td>C0154925</td>\n",
       "    </tr>\n",
       "    <tr>\n",
       "      <th>219833</th>\n",
       "      <td>C5235233</td>\n",
       "      <td>SIB</td>\n",
       "      <td>C0271111</td>\n",
       "    </tr>\n",
       "  </tbody>\n",
       "</table>\n",
       "<p>186157 rows × 3 columns</p>\n",
       "</div>"
      ],
      "text/plain": [
       "            head  rel      tail\n",
       "0       C0000737   SY  C0000737\n",
       "2       C0000737  CHD  C0232493\n",
       "3       C0000737  CHD  C0235299\n",
       "4       C0000737  CHD  C0238551\n",
       "5       C0000737  CHD  C0238552\n",
       "...          ...  ...       ...\n",
       "219829  C5235233  SIB  C0154922\n",
       "219830  C5235233  SIB  C0154923\n",
       "219831  C5235233  SIB  C0154924\n",
       "219832  C5235233  SIB  C0154925\n",
       "219833  C5235233  SIB  C0271111\n",
       "\n",
       "[186157 rows x 3 columns]"
      ]
     },
     "execution_count": 106,
     "metadata": {},
     "output_type": "execute_result"
    }
   ],
   "source": [
    "filtered_relations"
   ]
  },
  {
   "cell_type": "code",
   "execution_count": 107,
   "id": "covered-blair",
   "metadata": {},
   "outputs": [],
   "source": [
    "cui2icd = pd.Series(concepts.ICD9.values, index=concepts.CUI).to_dict()"
   ]
  },
  {
   "cell_type": "code",
   "execution_count": 108,
   "id": "prospective-virtue",
   "metadata": {},
   "outputs": [
    {
     "data": {
      "text/plain": [
       "20995"
      ]
     },
     "execution_count": 108,
     "metadata": {},
     "output_type": "execute_result"
    }
   ],
   "source": [
    "len(cui2icd)"
   ]
  },
  {
   "cell_type": "code",
   "execution_count": 120,
   "id": "offensive-hampton",
   "metadata": {},
   "outputs": [
    {
     "data": {
      "text/plain": [
       "True"
      ]
     },
     "execution_count": 120,
     "metadata": {},
     "output_type": "execute_result"
    }
   ],
   "source": [
    "'C0003615' in cui2icd"
   ]
  },
  {
   "cell_type": "code",
   "execution_count": 121,
   "id": "promotional-desire",
   "metadata": {},
   "outputs": [
    {
     "data": {
      "text/plain": [
       "'540-543.99'"
      ]
     },
     "execution_count": 121,
     "metadata": {},
     "output_type": "execute_result"
    }
   ],
   "source": [
    "cui2icd['C0003615']"
   ]
  },
  {
   "cell_type": "code",
   "execution_count": 109,
   "id": "damaged-terrorist",
   "metadata": {},
   "outputs": [
    {
     "name": "stderr",
     "output_type": "stream",
     "text": [
      "/home/dc925/miniconda3/envs/graphmimic/lib/python3.7/site-packages/ipykernel_launcher.py:1: SettingWithCopyWarning: \n",
      "A value is trying to be set on a copy of a slice from a DataFrame.\n",
      "Try using .loc[row_indexer,col_indexer] = value instead\n",
      "\n",
      "See the caveats in the documentation: https://pandas.pydata.org/pandas-docs/stable/user_guide/indexing.html#returning-a-view-versus-a-copy\n",
      "  \"\"\"Entry point for launching an IPython kernel.\n"
     ]
    }
   ],
   "source": [
    "filtered_relations['head'] = filtered_relations['head'].map(lambda x: cui2icd[x])"
   ]
  },
  {
   "cell_type": "code",
   "execution_count": 110,
   "id": "worst-reproduction",
   "metadata": {},
   "outputs": [
    {
     "name": "stderr",
     "output_type": "stream",
     "text": [
      "/home/dc925/miniconda3/envs/graphmimic/lib/python3.7/site-packages/ipykernel_launcher.py:1: SettingWithCopyWarning: \n",
      "A value is trying to be set on a copy of a slice from a DataFrame.\n",
      "Try using .loc[row_indexer,col_indexer] = value instead\n",
      "\n",
      "See the caveats in the documentation: https://pandas.pydata.org/pandas-docs/stable/user_guide/indexing.html#returning-a-view-versus-a-copy\n",
      "  \"\"\"Entry point for launching an IPython kernel.\n"
     ]
    }
   ],
   "source": [
    "filtered_relations['tail'] = filtered_relations['tail'].map(lambda x: cui2icd[x])"
   ]
  },
  {
   "cell_type": "code",
   "execution_count": 112,
   "id": "other-october",
   "metadata": {},
   "outputs": [
    {
     "data": {
      "text/html": [
       "<div>\n",
       "<style scoped>\n",
       "    .dataframe tbody tr th:only-of-type {\n",
       "        vertical-align: middle;\n",
       "    }\n",
       "\n",
       "    .dataframe tbody tr th {\n",
       "        vertical-align: top;\n",
       "    }\n",
       "\n",
       "    .dataframe thead th {\n",
       "        text-align: right;\n",
       "    }\n",
       "</style>\n",
       "<table border=\"1\" class=\"dataframe\">\n",
       "  <thead>\n",
       "    <tr style=\"text-align: right;\">\n",
       "      <th></th>\n",
       "      <th>head</th>\n",
       "      <th>rel</th>\n",
       "      <th>tail</th>\n",
       "    </tr>\n",
       "  </thead>\n",
       "  <tbody>\n",
       "    <tr>\n",
       "      <th>0</th>\n",
       "      <td>789.0</td>\n",
       "      <td>SY</td>\n",
       "      <td>789.0</td>\n",
       "    </tr>\n",
       "    <tr>\n",
       "      <th>2</th>\n",
       "      <td>789.0</td>\n",
       "      <td>CHD</td>\n",
       "      <td>789.06</td>\n",
       "    </tr>\n",
       "    <tr>\n",
       "      <th>3</th>\n",
       "      <td>789.0</td>\n",
       "      <td>CHD</td>\n",
       "      <td>789.01</td>\n",
       "    </tr>\n",
       "    <tr>\n",
       "      <th>4</th>\n",
       "      <td>789.0</td>\n",
       "      <td>CHD</td>\n",
       "      <td>789.04</td>\n",
       "    </tr>\n",
       "    <tr>\n",
       "      <th>5</th>\n",
       "      <td>789.0</td>\n",
       "      <td>CHD</td>\n",
       "      <td>789.02</td>\n",
       "    </tr>\n",
       "    <tr>\n",
       "      <th>...</th>\n",
       "      <td>...</td>\n",
       "      <td>...</td>\n",
       "      <td>...</td>\n",
       "    </tr>\n",
       "    <tr>\n",
       "      <th>219829</th>\n",
       "      <td>364.53</td>\n",
       "      <td>SIB</td>\n",
       "      <td>364.55</td>\n",
       "    </tr>\n",
       "    <tr>\n",
       "      <th>219830</th>\n",
       "      <td>364.53</td>\n",
       "      <td>SIB</td>\n",
       "      <td>364.56</td>\n",
       "    </tr>\n",
       "    <tr>\n",
       "      <th>219831</th>\n",
       "      <td>364.53</td>\n",
       "      <td>SIB</td>\n",
       "      <td>364.57</td>\n",
       "    </tr>\n",
       "    <tr>\n",
       "      <th>219832</th>\n",
       "      <td>364.53</td>\n",
       "      <td>SIB</td>\n",
       "      <td>364.59</td>\n",
       "    </tr>\n",
       "    <tr>\n",
       "      <th>219833</th>\n",
       "      <td>364.53</td>\n",
       "      <td>SIB</td>\n",
       "      <td>364.51</td>\n",
       "    </tr>\n",
       "  </tbody>\n",
       "</table>\n",
       "<p>186157 rows × 3 columns</p>\n",
       "</div>"
      ],
      "text/plain": [
       "          head  rel    tail\n",
       "0        789.0   SY   789.0\n",
       "2        789.0  CHD  789.06\n",
       "3        789.0  CHD  789.01\n",
       "4        789.0  CHD  789.04\n",
       "5        789.0  CHD  789.02\n",
       "...        ...  ...     ...\n",
       "219829  364.53  SIB  364.55\n",
       "219830  364.53  SIB  364.56\n",
       "219831  364.53  SIB  364.57\n",
       "219832  364.53  SIB  364.59\n",
       "219833  364.53  SIB  364.51\n",
       "\n",
       "[186157 rows x 3 columns]"
      ]
     },
     "execution_count": 112,
     "metadata": {},
     "output_type": "execute_result"
    }
   ],
   "source": [
    "filtered_relations"
   ]
  },
  {
   "cell_type": "code",
   "execution_count": 113,
   "id": "moving-tuning",
   "metadata": {},
   "outputs": [],
   "source": [
    "unique_icds = set(filtered_relations['head'].values) & set(filtered_relations['tail'].values)"
   ]
  },
  {
   "cell_type": "code",
   "execution_count": 114,
   "id": "formal-keeping",
   "metadata": {},
   "outputs": [
    {
     "data": {
      "text/plain": [
       "20995"
      ]
     },
     "execution_count": 114,
     "metadata": {},
     "output_type": "execute_result"
    }
   ],
   "source": [
    "len(unique_icds)"
   ]
  },
  {
   "cell_type": "code",
   "execution_count": 115,
   "id": "federal-choir",
   "metadata": {},
   "outputs": [],
   "source": [
    "# Have to make sure broad codes from the MIMIC datasets are included in KG\n",
    "icd_codes_mortality = pd.read_csv(\n",
    "    '/home/dc925/project/data/graphmimic/mortality/icd_codes_mortality.txt', header=None)\n",
    "icd_codes_readmission = pd.read_csv(\n",
    "    '/home/dc925/project/data/graphmimic/readmission/icd_codes_readmission.txt', header=None)\n",
    "icd_codes_mortality = icd_codes_mortality[0].tolist()\n",
    "icd_codes_readmission = icd_codes_readmission[0].tolist()\n",
    "icd_codes = set(icd_codes_mortality + icd_codes_readmission)"
   ]
  },
  {
   "cell_type": "code",
   "execution_count": 128,
   "id": "positive-championship",
   "metadata": {},
   "outputs": [],
   "source": [
    "icd_fix = {}\n",
    "for c in icd_codes:\n",
    "    if c in unique_icds:\n",
    "        continue\n",
    "    else:\n",
    "        icd_fix['{}.0'.format(c)] = c\n",
    "        icd_fix['{}.00'.format(c)] = c\n",
    "icd_fix['540-543.99'] = '541'\n",
    "icd_fix['E880-E888.9'] = 'E887'\n",
    "icd_fix['042-042.99'] = '042'\n",
    "\n",
    "    "
   ]
  },
  {
   "cell_type": "code",
   "execution_count": 129,
   "id": "saved-olympus",
   "metadata": {},
   "outputs": [
    {
     "data": {
      "text/plain": [
       "193"
      ]
     },
     "execution_count": 129,
     "metadata": {},
     "output_type": "execute_result"
    }
   ],
   "source": [
    "len(icd_fix)"
   ]
  },
  {
   "cell_type": "code",
   "execution_count": 131,
   "id": "commercial-bride",
   "metadata": {},
   "outputs": [],
   "source": [
    "filtered_relations = filtered_relations.applymap(lambda x: x if x not in icd_fix else icd_fix[x])"
   ]
  },
  {
   "cell_type": "code",
   "execution_count": 132,
   "id": "located-giving",
   "metadata": {},
   "outputs": [
    {
     "data": {
      "text/html": [
       "<div>\n",
       "<style scoped>\n",
       "    .dataframe tbody tr th:only-of-type {\n",
       "        vertical-align: middle;\n",
       "    }\n",
       "\n",
       "    .dataframe tbody tr th {\n",
       "        vertical-align: top;\n",
       "    }\n",
       "\n",
       "    .dataframe thead th {\n",
       "        text-align: right;\n",
       "    }\n",
       "</style>\n",
       "<table border=\"1\" class=\"dataframe\">\n",
       "  <thead>\n",
       "    <tr style=\"text-align: right;\">\n",
       "      <th></th>\n",
       "      <th>head</th>\n",
       "      <th>rel</th>\n",
       "      <th>tail</th>\n",
       "    </tr>\n",
       "  </thead>\n",
       "  <tbody>\n",
       "    <tr>\n",
       "      <th>0</th>\n",
       "      <td>789.0</td>\n",
       "      <td>SY</td>\n",
       "      <td>789.0</td>\n",
       "    </tr>\n",
       "    <tr>\n",
       "      <th>2</th>\n",
       "      <td>789.0</td>\n",
       "      <td>CHD</td>\n",
       "      <td>789.06</td>\n",
       "    </tr>\n",
       "    <tr>\n",
       "      <th>3</th>\n",
       "      <td>789.0</td>\n",
       "      <td>CHD</td>\n",
       "      <td>789.01</td>\n",
       "    </tr>\n",
       "    <tr>\n",
       "      <th>4</th>\n",
       "      <td>789.0</td>\n",
       "      <td>CHD</td>\n",
       "      <td>789.04</td>\n",
       "    </tr>\n",
       "    <tr>\n",
       "      <th>5</th>\n",
       "      <td>789.0</td>\n",
       "      <td>CHD</td>\n",
       "      <td>789.02</td>\n",
       "    </tr>\n",
       "    <tr>\n",
       "      <th>...</th>\n",
       "      <td>...</td>\n",
       "      <td>...</td>\n",
       "      <td>...</td>\n",
       "    </tr>\n",
       "    <tr>\n",
       "      <th>219829</th>\n",
       "      <td>364.53</td>\n",
       "      <td>SIB</td>\n",
       "      <td>364.55</td>\n",
       "    </tr>\n",
       "    <tr>\n",
       "      <th>219830</th>\n",
       "      <td>364.53</td>\n",
       "      <td>SIB</td>\n",
       "      <td>364.56</td>\n",
       "    </tr>\n",
       "    <tr>\n",
       "      <th>219831</th>\n",
       "      <td>364.53</td>\n",
       "      <td>SIB</td>\n",
       "      <td>364.57</td>\n",
       "    </tr>\n",
       "    <tr>\n",
       "      <th>219832</th>\n",
       "      <td>364.53</td>\n",
       "      <td>SIB</td>\n",
       "      <td>364.59</td>\n",
       "    </tr>\n",
       "    <tr>\n",
       "      <th>219833</th>\n",
       "      <td>364.53</td>\n",
       "      <td>SIB</td>\n",
       "      <td>364.51</td>\n",
       "    </tr>\n",
       "  </tbody>\n",
       "</table>\n",
       "<p>186157 rows × 3 columns</p>\n",
       "</div>"
      ],
      "text/plain": [
       "          head  rel    tail\n",
       "0        789.0   SY   789.0\n",
       "2        789.0  CHD  789.06\n",
       "3        789.0  CHD  789.01\n",
       "4        789.0  CHD  789.04\n",
       "5        789.0  CHD  789.02\n",
       "...        ...  ...     ...\n",
       "219829  364.53  SIB  364.55\n",
       "219830  364.53  SIB  364.56\n",
       "219831  364.53  SIB  364.57\n",
       "219832  364.53  SIB  364.59\n",
       "219833  364.53  SIB  364.51\n",
       "\n",
       "[186157 rows x 3 columns]"
      ]
     },
     "execution_count": 132,
     "metadata": {},
     "output_type": "execute_result"
    }
   ],
   "source": [
    "filtered_relations"
   ]
  },
  {
   "cell_type": "code",
   "execution_count": 138,
   "id": "applied-liability",
   "metadata": {},
   "outputs": [],
   "source": [
    "triples = filtered_relations.values.tolist()\n",
    "num_triples = len(triples)"
   ]
  },
  {
   "cell_type": "code",
   "execution_count": 139,
   "id": "aboriginal-relevance",
   "metadata": {},
   "outputs": [],
   "source": [
    "seed = np.arange(num_triples)"
   ]
  },
  {
   "cell_type": "code",
   "execution_count": 140,
   "id": "functioning-hollywood",
   "metadata": {},
   "outputs": [],
   "source": [
    "np.random.shuffle(seed)"
   ]
  },
  {
   "cell_type": "code",
   "execution_count": 141,
   "id": "leading-affiliate",
   "metadata": {},
   "outputs": [],
   "source": [
    "data_dir = '/home/dc925/project/data/graphmimic/UMLS/ICD_KG'"
   ]
  },
  {
   "cell_type": "code",
   "execution_count": 142,
   "id": "quality-telescope",
   "metadata": {},
   "outputs": [],
   "source": [
    "train_count = int(num_triples * 0.9)\n",
    "valid_count = int(num_triples * 0.05)\n",
    "\n",
    "train_set = seed[:train_count].tolist()\n",
    "valid_set = seed[train_count: train_count+valid_count].tolist()\n",
    "test_set = seed[train_count+valid_count:].tolist()\n",
    "\n",
    "with open(os.path.join(data_dir, 'train.tsv'), 'w+') as f:\n",
    "    for idx in train_set:\n",
    "        f.writelines(\"{}\\t{}\\t{}\\n\".format(triples[idx][0], triples[idx][1], triples[idx][2]))\n",
    "with open(os.path.join(data_dir, 'valid.tsv'), 'w+') as f:\n",
    "    for idx in valid_set:\n",
    "        f.writelines(\"{}\\t{}\\t{}\\n\".format(triples[idx][0], triples[idx][1], triples[idx][2]))\n",
    "with open(os.path.join(data_dir, 'test.tsv'), 'w+') as f:\n",
    "    for idx in test_set:\n",
    "        f.writelines(\"{}\\t{}\\t{}\\n\".format(triples[idx][0], triples[idx][1], triples[idx][2]))\n"
   ]
  },
  {
   "cell_type": "code",
   "execution_count": null,
   "id": "appropriate-enough",
   "metadata": {},
   "outputs": [],
   "source": []
  },
  {
   "cell_type": "code",
   "execution_count": null,
   "id": "velvet-superintendent",
   "metadata": {},
   "outputs": [],
   "source": []
  }
 ],
 "metadata": {
  "kernelspec": {
   "display_name": "Python 3",
   "language": "python",
   "name": "python3"
  },
  "language_info": {
   "codemirror_mode": {
    "name": "ipython",
    "version": 3
   },
   "file_extension": ".py",
   "mimetype": "text/x-python",
   "name": "python",
   "nbconvert_exporter": "python",
   "pygments_lexer": "ipython3",
   "version": "3.7.9"
  }
 },
 "nbformat": 4,
 "nbformat_minor": 5
}
